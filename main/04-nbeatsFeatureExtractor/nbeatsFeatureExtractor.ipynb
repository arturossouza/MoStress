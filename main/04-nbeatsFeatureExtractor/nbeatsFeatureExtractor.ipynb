{
 "cells": [
  {
   "cell_type": "code",
   "execution_count": 1,
   "metadata": {},
   "outputs": [],
   "source": [
    "import sys\n",
    "import os\n",
    "\n",
    "ROOT_DIR = os.path.dirname(os.environ[\"VIRTUAL_ENV\"])\n",
    "sys.path.append(ROOT_DIR)"
   ]
  },
  {
   "cell_type": "code",
   "execution_count": 2,
   "metadata": {},
   "outputs": [
    {
     "name": "stderr",
     "output_type": "stream",
     "text": [
      "2022-11-20 16:58:33.651177: I tensorflow/core/platform/cpu_feature_guard.cc:193] This TensorFlow binary is optimized with oneAPI Deep Neural Network Library (oneDNN) to use the following CPU instructions in performance-critical operations:  AVX2 FMA\n",
      "To enable them in other operations, rebuild TensorFlow with the appropriate compiler flags.\n"
     ]
    }
   ],
   "source": [
    "from os.path import join\n",
    "import json\n",
    "from moStress.neuralNetwork.MoStressNeuralNetwork import MoStressNeuralNetwork\n",
    "from utils.preprocessingCheckpoint import getPreprocessingCheckpoint\n",
    "from models.EvaluateModel import EvaluateModel"
   ]
  },
  {
   "cell_type": "code",
   "execution_count": null,
   "metadata": {},
   "outputs": [],
   "source": [
    "MODEL_T0_TEST = \"NBEATS-FEATURE-EXTRACTOR\""
   ]
  },
  {
   "cell_type": "code",
   "execution_count": null,
   "metadata": {},
   "outputs": [],
   "source": [
    "moStressJsonFilePath = join(\"configs\",\"moStressConfigs.json\")\n",
    "\n",
    "with open(moStressJsonFilePath, 'r') as j:\n",
    "        moStressConfigs = json.loads(j.read())"
   ]
  },
  {
   "cell_type": "code",
   "execution_count": null,
   "metadata": {},
   "outputs": [],
   "source": [
    "trainData, validationData = getPreprocessingCheckpoint()"
   ]
  },
  {
   "cell_type": "code",
   "execution_count": null,
   "metadata": {},
   "outputs": [],
   "source": [
    "dataset = {\n",
    "    \"features\": trainData[\"features\"][:4],\n",
    "    \"targets\": trainData[\"targets\"][:4],\n",
    "    \"weights\": trainData[\"weights\"],\n",
    "}"
   ]
  },
  {
   "cell_type": "code",
   "execution_count": null,
   "metadata": {},
   "outputs": [],
   "source": [
    "moStressNeuralNetwork = MoStressNeuralNetwork(moStressConfigs, dataset, True)"
   ]
  },
  {
   "cell_type": "code",
   "execution_count": null,
   "metadata": {},
   "outputs": [],
   "source": [
    "import tensorflow as tf\n",
    "if tf.config.list_physical_devices('GPU'):\n",
    "  print(\"TensorFlow **IS** using the GPU\")\n",
    "else:\n",
    "  print(\"TensorFlow **IS NOT** using the GPU\")"
   ]
  },
  {
   "cell_type": "code",
   "execution_count": null,
   "metadata": {},
   "outputs": [],
   "source": [
    "moStressNeuralNetwork.execute(\n",
    "    MODEL_T0_TEST,\n",
    "    \"adam\",\n",
    "    \"sequential\"\n",
    ")"
   ]
  },
  {
   "cell_type": "code",
   "execution_count": null,
   "metadata": {},
   "outputs": [],
   "source": [
    "evaluator = EvaluateModel(\n",
    "    { \"features\": validationData[\"features\"], \"targets\": validationData[\"targets\"] },\n",
    "    MODEL_T0_TEST,\n",
    "    moStressNeuralNetwork.model,\n",
    ")"
   ]
  },
  {
   "cell_type": "code",
   "execution_count": null,
   "metadata": {},
   "outputs": [],
   "source": [
    "evaluator.executeEvaluation()"
   ]
  }
 ],
 "metadata": {
  "kernelspec": {
   "display_name": "Python 3.9.7 ('mostress-env-3': venv)",
   "language": "python",
   "name": "python3"
  },
  "language_info": {
   "codemirror_mode": {
    "name": "ipython",
    "version": 3
   },
   "file_extension": ".py",
   "mimetype": "text/x-python",
   "name": "python",
   "nbconvert_exporter": "python",
   "pygments_lexer": "ipython3",
   "version": "3.9.7"
  },
  "orig_nbformat": 4,
  "vscode": {
   "interpreter": {
    "hash": "40ddbc44c2566cc863fbe3ed4d866ad1d17d26e8cfe9acf4958131a2c860ee70"
   }
  }
 },
 "nbformat": 4,
 "nbformat_minor": 2
}
