{
 "cells": [
  {
   "cell_type": "code",
   "execution_count": 1,
   "metadata": {},
   "outputs": [],
   "source": [
    "import sys\n",
    "sys.path.append(\"/Users/I546644/Personal/Unisinos/Codes/MoStress\")"
   ]
  },
  {
   "cell_type": "code",
   "execution_count": 2,
   "metadata": {},
   "outputs": [],
   "source": [
    "from os.path import join\n",
    "import json\n",
    "from moStress.neuralNetwork.MoStressNeuralNetwork import MoStressNeuralNetwork\n",
    "from utils.preprocessingCheckpoint import getPreprocessingCheckpoint\n",
    "from models.EvaluateModel import EvaluateModel"
   ]
  },
  {
   "cell_type": "code",
   "execution_count": 3,
   "metadata": {},
   "outputs": [],
   "source": [
    "moStressJsonFilePath = join(\"..\", \"configs\",\"moStressConfigs.json\")\n",
    "\n",
    "with open(moStressJsonFilePath, 'r') as j:\n",
    "        moStressConfigs = json.loads(j.read())"
   ]
  },
  {
   "cell_type": "code",
   "execution_count": 4,
   "metadata": {},
   "outputs": [],
   "source": [
    "trainData, validationData = getPreprocessingCheckpoint()"
   ]
  },
  {
   "cell_type": "code",
   "execution_count": 5,
   "metadata": {},
   "outputs": [],
   "source": [
    "dataset = {\n",
    "    \"features\": trainData[\"features\"],\n",
    "    \"targets\": trainData[\"targets\"],\n",
    "    \"weights\": trainData[\"weights\"],\n",
    "}"
   ]
  },
  {
   "cell_type": "code",
   "execution_count": 6,
   "metadata": {},
   "outputs": [
    {
     "name": "stderr",
     "output_type": "stream",
     "text": [
      "2022-09-11 21:06:31.978106: I tensorflow/core/platform/cpu_feature_guard.cc:193] This TensorFlow binary is optimized with oneAPI Deep Neural Network Library (oneDNN) to use the following CPU instructions in performance-critical operations:  AVX2 FMA\n",
      "To enable them in other operations, rebuild TensorFlow with the appropriate compiler flags.\n"
     ]
    }
   ],
   "source": [
    "moStressNeuralNetwork = MoStressNeuralNetwork(moStressConfigs, dataset)"
   ]
  },
  {
   "cell_type": "code",
   "execution_count": 7,
   "metadata": {},
   "outputs": [
    {
     "name": "stdout",
     "output_type": "stream",
     "text": [
      "Starting MoStress with model: BASELINE-RESERVOIR-NONE.\n",
      "\n",
      "\n",
      "Compiling model with optimizer: none\n",
      "\n",
      "\n",
      "Model Compiled\n",
      "\n",
      "\n",
      "Fitting Model\n",
      "\n",
      "\n",
      "Setting Reservoir Nodes with Input Data...\n",
      "\n"
     ]
    }
   ],
   "source": [
    "moStressNeuralNetwork.execute(\n",
    "    \"BASELINE-RESERVOIR\",\n",
    "    \"none\",\n",
    "    \"reservoir\"\n",
    ")"
   ]
  },
  {
   "cell_type": "code",
   "execution_count": null,
   "metadata": {},
   "outputs": [],
   "source": [
    "evaluator = EvaluateModel(\n",
    "    { \"features\": validationData[\"features\"], \"targets\": validationData[\"targets\"] },\n",
    "    \"BASELINE-RESERVOIR\",\n",
    "    moStressNeuralNetwork.model,\n",
    ")"
   ]
  },
  {
   "cell_type": "code",
   "execution_count": null,
   "metadata": {},
   "outputs": [],
   "source": [
    "evaluator.executeEvaluation()"
   ]
  }
 ],
 "metadata": {
  "kernelspec": {
   "display_name": "Python 3.9.7 ('mostress-dev2-env': venv)",
   "language": "python",
   "name": "python3"
  },
  "language_info": {
   "codemirror_mode": {
    "name": "ipython",
    "version": 3
   },
   "file_extension": ".py",
   "mimetype": "text/x-python",
   "name": "python",
   "nbconvert_exporter": "python",
   "pygments_lexer": "ipython3",
   "version": "3.9.7"
  },
  "orig_nbformat": 4,
  "vscode": {
   "interpreter": {
    "hash": "143167f09ea17dc788a92cbc3c59d17d73128ff92566801f762cb232b6bed323"
   }
  }
 },
 "nbformat": 4,
 "nbformat_minor": 2
}
