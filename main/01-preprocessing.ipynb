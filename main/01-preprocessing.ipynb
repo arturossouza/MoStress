{
 "cells": [
  {
   "cell_type": "code",
   "execution_count": 1,
   "metadata": {},
   "outputs": [],
   "source": [
    "import sys\n",
    "import os\n",
    "\n",
    "ROOT_DIR = os.path.abspath(\"../\")\n",
    "sys.path.append(ROOT_DIR)\n"
   ]
  },
  {
   "cell_type": "code",
   "execution_count": 2,
   "metadata": {},
   "outputs": [],
   "source": [
    "import json\n",
    "from os.path import join\n",
    "\n",
    "from datasets.DatasetFactory import DatasetFactory\n",
    "from moStress.preprocessing.MoStressPreprocessing import MoStressPreprocessing\n",
    "from utils.preprocessingCheckpoint import setPreprocessingCheckpoint\n"
   ]
  },
  {
   "cell_type": "code",
   "execution_count": 3,
   "metadata": {},
   "outputs": [],
   "source": [
    "wesadDataPath =  join(\"..\", \"data\", \"WESAD\")\n",
    "datasetJsonFilePath = join(\"..\", \"configs\", \"wesadDatasetOptions.json\")\n",
    "moStressJsonFilePath = join(\"..\", \"configs\",\"moStressConfigs.json\")"
   ]
  },
  {
   "cell_type": "code",
   "execution_count": 4,
   "metadata": {},
   "outputs": [],
   "source": [
    "with open(datasetJsonFilePath, 'r') as j:\n",
    "        wesadOptions = json.loads(j.read())\n",
    "\n",
    "with open(moStressJsonFilePath, 'r') as j:\n",
    "        moStressConfigs = json.loads(j.read())"
   ]
  },
  {
   "cell_type": "code",
   "execution_count": 5,
   "metadata": {},
   "outputs": [],
   "source": [
    "wesadChestPhysioData = DatasetFactory().make( \"Wesad Physio Chest Data\", wesadDataPath, wesadOptions[\"Chest Physio Data\"] )"
   ]
  },
  {
   "cell_type": "code",
   "execution_count": 6,
   "metadata": {},
   "outputs": [],
   "source": [
    "moStressPreprocessing = MoStressPreprocessing(moStressConfigs, wesadChestPhysioData.data)"
   ]
  },
  {
   "cell_type": "code",
   "execution_count": 7,
   "metadata": {},
   "outputs": [
    {
     "name": "stdout",
     "output_type": "stream",
     "text": [
      "Starting MoStress data preprocessing.\n",
      "\n",
      "Data Normalization in progress...\n",
      "\n",
      "Normalization finished.\n",
      "\n",
      "Windows Labelling in progress...\n",
      "\n",
      "Windows Labelling finished.\n",
      "\n",
      "Weights Calculation in progress...\n",
      "\n",
      "Weights Calculation finished.\n",
      "\n",
      "MoStress data preprocessing finished.\n",
      "\n"
     ]
    }
   ],
   "source": [
    "moStressPreprocessing.execute()"
   ]
  },
  {
   "cell_type": "code",
   "execution_count": 8,
   "metadata": {},
   "outputs": [],
   "source": [
    "setPreprocessingCheckpoint(moStressPreprocessing)"
   ]
  }
 ],
 "metadata": {
  "kernelspec": {
   "display_name": "Python 3.9.7 ('mostress-dev2-env': venv)",
   "language": "python",
   "name": "python3"
  },
  "language_info": {
   "codemirror_mode": {
    "name": "ipython",
    "version": 3
   },
   "file_extension": ".py",
   "mimetype": "text/x-python",
   "name": "python",
   "nbconvert_exporter": "python",
   "pygments_lexer": "ipython3",
   "version": "3.9.7"
  },
  "orig_nbformat": 4,
  "vscode": {
   "interpreter": {
    "hash": "143167f09ea17dc788a92cbc3c59d17d73128ff92566801f762cb232b6bed323"
   }
  }
 },
 "nbformat": 4,
 "nbformat_minor": 2
}
