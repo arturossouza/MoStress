{
 "cells": [
  {
   "cell_type": "code",
   "execution_count": 19,
   "metadata": {},
   "outputs": [],
   "source": [
    "import sys\n",
    "import os\n",
    "\n",
    "SCRIPT_DIR = os.path.dirname(os.path.abspath(\"__file__\"))\n",
    "sys.path.append(os.path.dirname(SCRIPT_DIR))"
   ]
  },
  {
   "cell_type": "code",
   "execution_count": 20,
   "metadata": {},
   "outputs": [],
   "source": [
    "import numpy as np\n",
    "from sklearn.model_selection import train_test_split\n",
    "from utils.preprocessingCheckpoint import getPreprocessingCheckpoint"
   ]
  },
  {
   "cell_type": "code",
   "execution_count": 21,
   "metadata": {},
   "outputs": [],
   "source": [
    "trainData, validationData = getPreprocessingCheckpoint()"
   ]
  },
  {
   "cell_type": "code",
   "execution_count": 22,
   "metadata": {},
   "outputs": [],
   "source": [
    "features = trainData[\"features\"]\n",
    "targets = trainData[\"targets\"]"
   ]
  },
  {
   "cell_type": "code",
   "execution_count": 23,
   "metadata": {},
   "outputs": [
    {
     "data": {
      "text/plain": [
       "(29364, (420, 5))"
      ]
     },
     "execution_count": 23,
     "metadata": {},
     "output_type": "execute_result"
    }
   ],
   "source": [
    "len(features), features[0].shape"
   ]
  },
  {
   "cell_type": "code",
   "execution_count": 24,
   "metadata": {},
   "outputs": [
    {
     "data": {
      "text/plain": [
       "(29364, array([0, 1, 2]))"
      ]
     },
     "execution_count": 24,
     "metadata": {},
     "output_type": "execute_result"
    }
   ],
   "source": [
    "len(targets), np.unique(targets)"
   ]
  },
  {
   "cell_type": "code",
   "execution_count": 25,
   "metadata": {},
   "outputs": [],
   "source": [
    "encoder = {\n",
    "    \"0\": np.array([[1.0, 0.0, 0.0]]),\n",
    "    \"1\": np.array([[0.0, 1.0, 0.0]]),\n",
    "    \"2\": np.array([[0.0, 0.0, 1.0]]),\n",
    "}"
   ]
  },
  {
   "cell_type": "code",
   "execution_count": 26,
   "metadata": {},
   "outputs": [],
   "source": [
    "encodedTargets = [ encoder[str(label)] for label in targets ]"
   ]
  },
  {
   "cell_type": "code",
   "execution_count": 27,
   "metadata": {},
   "outputs": [
    {
     "data": {
      "text/plain": [
       "(29364,\n",
       " array([[[0., 0., 1.]],\n",
       " \n",
       "        [[0., 1., 0.]],\n",
       " \n",
       "        [[1., 0., 0.]]]))"
      ]
     },
     "execution_count": 27,
     "metadata": {},
     "output_type": "execute_result"
    }
   ],
   "source": [
    "len(encodedTargets), np.unique(encodedTargets, axis=0)"
   ]
  },
  {
   "cell_type": "code",
   "execution_count": 28,
   "metadata": {},
   "outputs": [],
   "source": [
    "x_train, x_test, y_train, y_test = train_test_split(\n",
    "    features, encodedTargets, test_size=0.4, stratify=targets\n",
    ")"
   ]
  },
  {
   "cell_type": "code",
   "execution_count": 29,
   "metadata": {},
   "outputs": [
    {
     "data": {
      "text/plain": [
       "(29364, 17618, 11746)"
      ]
     },
     "execution_count": 29,
     "metadata": {},
     "output_type": "execute_result"
    }
   ],
   "source": [
    "len(features), len(x_train), len(x_test)"
   ]
  },
  {
   "cell_type": "code",
   "execution_count": 30,
   "metadata": {},
   "outputs": [
    {
     "data": {
      "text/plain": [
       "(29364, 17618, 11746)"
      ]
     },
     "execution_count": 30,
     "metadata": {},
     "output_type": "execute_result"
    }
   ],
   "source": [
    "len(targets), len(y_train), len(y_test)"
   ]
  },
  {
   "cell_type": "code",
   "execution_count": 31,
   "metadata": {},
   "outputs": [
    {
     "data": {
      "text/plain": [
       "(17618,\n",
       " array([[-1.20773418e-01,  3.74033747e+00,  7.88282283e-01,\n",
       "         -2.82353354e+00, -1.29165470e-01],\n",
       "        [-2.36111029e-01, -3.42203201e-01,  8.54029018e-01,\n",
       "         -1.30921292e+00, -2.44974229e-01],\n",
       "        [-3.99813273e-01, -4.88283289e-01,  9.18702884e-01,\n",
       "         -1.28844130e+00, -4.77633449e-01],\n",
       "        ...,\n",
       "        [-8.32708856e-02, -8.01089864e-01,  1.22118268e+00,\n",
       "         -7.02324390e-01, -1.47803619e-01],\n",
       "        [ 1.08692617e-01, -1.17698043e-03,  1.16221635e+00,\n",
       "         -7.71302760e-01, -2.57857519e-02],\n",
       "        [-4.17033493e-02, -1.77917195e-01,  1.09876000e+00,\n",
       "         -5.46525717e-01,  2.74361515e-01]]),\n",
       " (420, 5),\n",
       " array([-0.12077342,  3.74033747,  0.78828228, -2.82353354, -0.12916547]),\n",
       " (5,),\n",
       " -0.12077341836319935,\n",
       " numpy.float64)"
      ]
     },
     "execution_count": 31,
     "metadata": {},
     "output_type": "execute_result"
    }
   ],
   "source": [
    "len(x_train), x_train[0], x_train[0].shape, x_train[0][0], x_train[0][0].shape, x_train[0][0][0], type(x_train[0][0][0])"
   ]
  },
  {
   "cell_type": "code",
   "execution_count": 32,
   "metadata": {},
   "outputs": [
    {
     "data": {
      "text/plain": [
       "(17618,\n",
       " array([[0., 1., 0.]]),\n",
       " (1, 3),\n",
       " array([0., 1., 0.]),\n",
       " (3,),\n",
       " 0.0,\n",
       " numpy.float64)"
      ]
     },
     "execution_count": 32,
     "metadata": {},
     "output_type": "execute_result"
    }
   ],
   "source": [
    "len(y_train), y_train[0], y_train[0].shape, y_train[0][0], y_train[0][0].shape, y_train[0][0][0], type(y_train[0][0][0])"
   ]
  },
  {
   "cell_type": "code",
   "execution_count": 33,
   "metadata": {},
   "outputs": [],
   "source": [
    "from reservoirpy.nodes import Reservoir, Ridge, Input\n",
    "from reservoirpy import set_seed, verbosity"
   ]
  },
  {
   "cell_type": "code",
   "execution_count": 34,
   "metadata": {},
   "outputs": [
    {
     "data": {
      "text/plain": [
       "0"
      ]
     },
     "execution_count": 34,
     "metadata": {},
     "output_type": "execute_result"
    }
   ],
   "source": [
    "set_seed(42)\n",
    "verbosity(0)"
   ]
  },
  {
   "cell_type": "code",
   "execution_count": 35,
   "metadata": {},
   "outputs": [],
   "source": [
    "source = Input()\n",
    "reservoir = Reservoir(500, sr=0.9, lr=0.1)\n",
    "readout = Ridge(ridge=1e-6)\n",
    "\n",
    "model = [source >> reservoir, source] >> readout"
   ]
  },
  {
   "cell_type": "code",
   "execution_count": 36,
   "metadata": {},
   "outputs": [
    {
     "ename": "IndexError",
     "evalue": "index 1 is out of bounds for axis 0 with size 1",
     "output_type": "error",
     "traceback": [
      "\u001b[0;31m---------------------------------------------------------------------------\u001b[0m",
      "\u001b[0;31mIndexError\u001b[0m                                Traceback (most recent call last)",
      "\u001b[1;32m/Users/I546644/Personal/Unisinos/Codes/MoStress/experiments/reservoirTesting.ipynb Cell 18\u001b[0m in \u001b[0;36m<cell line: 1>\u001b[0;34m()\u001b[0m\n\u001b[0;32m----> <a href='vscode-notebook-cell:/Users/I546644/Personal/Unisinos/Codes/MoStress/experiments/reservoirTesting.ipynb#X42sZmlsZQ%3D%3D?line=0'>1</a>\u001b[0m model\u001b[39m.\u001b[39;49mfit(x_train, y_train, stateful\u001b[39m=\u001b[39;49m\u001b[39mFalse\u001b[39;49;00m, warmup\u001b[39m=\u001b[39;49m\u001b[39m2\u001b[39;49m)\n",
      "File \u001b[0;32m~/Personal/Unisinos/Codes/MoStress/mostress-dev2-env/lib/python3.9/site-packages/reservoirpy/model.py:1129\u001b[0m, in \u001b[0;36mModel.fit\u001b[0;34m(self, X, Y, warmup, force_teachers, from_state, stateful, reset)\u001b[0m\n\u001b[1;32m   1127\u001b[0m \u001b[39m# for seq/batch in dataset\u001b[39;00m\n\u001b[1;32m   1128\u001b[0m \u001b[39mfor\u001b[39;00m x_seq, y_seq \u001b[39min\u001b[39;00m \u001b[39mzip\u001b[39m(seq, Y):\n\u001b[0;32m-> 1129\u001b[0m     next_X \u001b[39m+\u001b[39m\u001b[39m=\u001b[39m [_partial_fit_fn(x_seq\u001b[39m=\u001b[39;49mx_seq, y_seq\u001b[39m=\u001b[39;49my_seq)]\n\u001b[1;32m   1131\u001b[0m \u001b[39mfor\u001b[39;00m node \u001b[39min\u001b[39;00m offlines:\n\u001b[1;32m   1132\u001b[0m     \u001b[39mif\u001b[39;00m verbosity():\n",
      "File \u001b[0;32m~/Personal/Unisinos/Codes/MoStress/mostress-dev2-env/lib/python3.9/site-packages/reservoirpy/model.py:130\u001b[0m, in \u001b[0;36mrun_and_partial_fit\u001b[0;34m(submodel, complete_model, offlines, relations, x_seq, y_seq, warmup, stateful, reset, return_states, force_teachers)\u001b[0m\n\u001b[1;32m    127\u001b[0m         y_seq \u001b[39m=\u001b[39m \u001b[39mNone\u001b[39;00m\n\u001b[1;32m    129\u001b[0m     submodel\u001b[39m.\u001b[39m_is_initialized \u001b[39m=\u001b[39m \u001b[39mTrue\u001b[39;00m\n\u001b[0;32m--> 130\u001b[0m     states \u001b[39m=\u001b[39m run_submodel(\n\u001b[1;32m    131\u001b[0m         complete_model,\n\u001b[1;32m    132\u001b[0m         submodel,\n\u001b[1;32m    133\u001b[0m         x_seq,\n\u001b[1;32m    134\u001b[0m         y_seq,\n\u001b[1;32m    135\u001b[0m         return_states\u001b[39m=\u001b[39;49mreturn_states,\n\u001b[1;32m    136\u001b[0m         stateful\u001b[39m=\u001b[39;49mstateful,\n\u001b[1;32m    137\u001b[0m         reset\u001b[39m=\u001b[39;49mreset,\n\u001b[1;32m    138\u001b[0m     )\n\u001b[1;32m    140\u001b[0m     dist_states \u001b[39m=\u001b[39m dist_states_to_next_subgraph(states, relations)\n\u001b[1;32m    141\u001b[0m \u001b[39melse\u001b[39;00m:\n",
      "File \u001b[0;32m~/Personal/Unisinos/Codes/MoStress/mostress-dev2-env/lib/python3.9/site-packages/reservoirpy/model.py:175\u001b[0m, in \u001b[0;36mrun_submodel\u001b[0;34m(model, submodel, X, forced_feedbacks, from_state, stateful, reset, shift_fb, return_states)\u001b[0m\n\u001b[1;32m    173\u001b[0m \u001b[39mfor\u001b[39;00m X_seq, fb_seq \u001b[39min\u001b[39;00m \u001b[39mzip\u001b[39m(X_, forced_feedbacks_):\n\u001b[1;32m    174\u001b[0m     \u001b[39mwith\u001b[39;00m model\u001b[39m.\u001b[39mwith_state(reset\u001b[39m=\u001b[39mreset, stateful\u001b[39m=\u001b[39mstateful):\n\u001b[0;32m--> 175\u001b[0m         states_seq \u001b[39m=\u001b[39m model\u001b[39m.\u001b[39;49m_run(\n\u001b[1;32m    176\u001b[0m             X_seq,\n\u001b[1;32m    177\u001b[0m             fb_seq,\n\u001b[1;32m    178\u001b[0m             from_state\u001b[39m=\u001b[39;49mfrom_state,\n\u001b[1;32m    179\u001b[0m             stateful\u001b[39m=\u001b[39;49mstateful,\n\u001b[1;32m    180\u001b[0m             shift_fb\u001b[39m=\u001b[39;49mshift_fb,\n\u001b[1;32m    181\u001b[0m             return_states\u001b[39m=\u001b[39;49mreturn_states,\n\u001b[1;32m    182\u001b[0m             submodel\u001b[39m=\u001b[39;49msubmodel,\n\u001b[1;32m    183\u001b[0m         )\n\u001b[1;32m    185\u001b[0m         states\u001b[39m.\u001b[39mappend(states_seq)\n\u001b[1;32m    187\u001b[0m \u001b[39mreturn\u001b[39;00m fold_mapping(submodel, states, return_states)\n",
      "File \u001b[0;32m~/Personal/Unisinos/Codes/MoStress/mostress-dev2-env/lib/python3.9/site-packages/reservoirpy/model.py:443\u001b[0m, in \u001b[0;36mModel._run\u001b[0;34m(self, X, feedback, from_state, stateful, shift_fb, return_states, submodel)\u001b[0m\n\u001b[1;32m    439\u001b[0m \u001b[39mwith\u001b[39;00m \u001b[39mself\u001b[39m\u001b[39m.\u001b[39mwith_state(from_state, stateful\u001b[39m=\u001b[39mstateful):\n\u001b[1;32m    440\u001b[0m     \u001b[39m# load proxys after state update to make it have an\u001b[39;00m\n\u001b[1;32m    441\u001b[0m     \u001b[39m# impact on feedback\u001b[39;00m\n\u001b[1;32m    442\u001b[0m     \u001b[39mself\u001b[39m\u001b[39m.\u001b[39m_load_proxys(keep\u001b[39m=\u001b[39m\u001b[39mTrue\u001b[39;00m)\n\u001b[0;32m--> 443\u001b[0m     \u001b[39mfor\u001b[39;00m i, (x, forced_fb, _) \u001b[39min\u001b[39;00m \u001b[39menumerate\u001b[39m(seq):\n\u001b[1;32m    445\u001b[0m         \u001b[39mwith\u001b[39;00m \u001b[39mself\u001b[39m\u001b[39m.\u001b[39mwith_feedback(forced_fb):\n\u001b[1;32m    446\u001b[0m             state \u001b[39m=\u001b[39m submodel\u001b[39m.\u001b[39m_call(x, return_states\u001b[39m=\u001b[39mreturn_states)\n",
      "File \u001b[0;32m~/Personal/Unisinos/Codes/MoStress/mostress-dev2-env/lib/python3.9/site-packages/reservoirpy/utils/graphflow.py:178\u001b[0m, in \u001b[0;36mdispatch\u001b[0;34m(X, Y, shift_fb, return_targets, force_teachers)\u001b[0m\n\u001b[1;32m    176\u001b[0m             fb \u001b[39m=\u001b[39m {node: \u001b[39mNone\u001b[39;00m \u001b[39mfor\u001b[39;00m node \u001b[39min\u001b[39;00m Y_map\u001b[39m.\u001b[39mkeys()}\n\u001b[1;32m    177\u001b[0m     \u001b[39melse\u001b[39;00m:\n\u001b[0;32m--> 178\u001b[0m         fb \u001b[39m=\u001b[39m {node: Y_map[node][np\u001b[39m.\u001b[39mnewaxis, i \u001b[39m-\u001b[39m \u001b[39m1\u001b[39m] \u001b[39mfor\u001b[39;00m node \u001b[39min\u001b[39;00m Y_map\u001b[39m.\u001b[39mkeys()}\n\u001b[1;32m    179\u001b[0m \u001b[39m# else assume that all feedback vectors must be instantaneously\u001b[39;00m\n\u001b[1;32m    180\u001b[0m \u001b[39m# fed to the network. This means that 'Y_map' already contains\u001b[39;00m\n\u001b[1;32m    181\u001b[0m \u001b[39m# data that is delayed by one timestep w.r.t. 'X_map'.\u001b[39;00m\n\u001b[1;32m    182\u001b[0m \u001b[39melse\u001b[39;00m:\n\u001b[1;32m    183\u001b[0m     fb \u001b[39m=\u001b[39m {node: Y_map[node][np\u001b[39m.\u001b[39mnewaxis, i] \u001b[39mfor\u001b[39;00m node \u001b[39min\u001b[39;00m Y_map\u001b[39m.\u001b[39mkeys()}\n",
      "File \u001b[0;32m~/Personal/Unisinos/Codes/MoStress/mostress-dev2-env/lib/python3.9/site-packages/reservoirpy/utils/graphflow.py:178\u001b[0m, in \u001b[0;36m<dictcomp>\u001b[0;34m(.0)\u001b[0m\n\u001b[1;32m    176\u001b[0m             fb \u001b[39m=\u001b[39m {node: \u001b[39mNone\u001b[39;00m \u001b[39mfor\u001b[39;00m node \u001b[39min\u001b[39;00m Y_map\u001b[39m.\u001b[39mkeys()}\n\u001b[1;32m    177\u001b[0m     \u001b[39melse\u001b[39;00m:\n\u001b[0;32m--> 178\u001b[0m         fb \u001b[39m=\u001b[39m {node: Y_map[node][np\u001b[39m.\u001b[39;49mnewaxis, i \u001b[39m-\u001b[39;49m \u001b[39m1\u001b[39;49m] \u001b[39mfor\u001b[39;00m node \u001b[39min\u001b[39;00m Y_map\u001b[39m.\u001b[39mkeys()}\n\u001b[1;32m    179\u001b[0m \u001b[39m# else assume that all feedback vectors must be instantaneously\u001b[39;00m\n\u001b[1;32m    180\u001b[0m \u001b[39m# fed to the network. This means that 'Y_map' already contains\u001b[39;00m\n\u001b[1;32m    181\u001b[0m \u001b[39m# data that is delayed by one timestep w.r.t. 'X_map'.\u001b[39;00m\n\u001b[1;32m    182\u001b[0m \u001b[39melse\u001b[39;00m:\n\u001b[1;32m    183\u001b[0m     fb \u001b[39m=\u001b[39m {node: Y_map[node][np\u001b[39m.\u001b[39mnewaxis, i] \u001b[39mfor\u001b[39;00m node \u001b[39min\u001b[39;00m Y_map\u001b[39m.\u001b[39mkeys()}\n",
      "\u001b[0;31mIndexError\u001b[0m: index 1 is out of bounds for axis 0 with size 1"
     ]
    }
   ],
   "source": [
    "model.fit(x_train, y_train, stateful=False, warmup=2)"
   ]
  },
  {
   "cell_type": "code",
   "execution_count": null,
   "metadata": {},
   "outputs": [],
   "source": []
  }
 ],
 "metadata": {
  "kernelspec": {
   "display_name": "Python 3.9.7 ('mostress-dev2-env': venv)",
   "language": "python",
   "name": "python3"
  },
  "language_info": {
   "codemirror_mode": {
    "name": "ipython",
    "version": 3
   },
   "file_extension": ".py",
   "mimetype": "text/x-python",
   "name": "python",
   "nbconvert_exporter": "python",
   "pygments_lexer": "ipython3",
   "version": "3.9.7"
  },
  "orig_nbformat": 4,
  "vscode": {
   "interpreter": {
    "hash": "143167f09ea17dc788a92cbc3c59d17d73128ff92566801f762cb232b6bed323"
   }
  }
 },
 "nbformat": 4,
 "nbformat_minor": 2
}
