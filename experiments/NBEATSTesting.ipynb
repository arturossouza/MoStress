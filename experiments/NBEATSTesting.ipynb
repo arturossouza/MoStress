{
 "cells": [
  {
   "cell_type": "code",
   "execution_count": 1,
   "metadata": {},
   "outputs": [],
   "source": [
    "import sys\n",
    "import os\n",
    "ROOT_DIR = os.path.abspath(\"/MoStress/\")\n",
    "sys.path.append(ROOT_DIR)"
   ]
  },
  {
   "cell_type": "code",
   "execution_count": 2,
   "metadata": {},
   "outputs": [],
   "source": [
    "import json\n",
    "from os.path import join\n",
    "\n",
    "import numpy as np\n",
    "import pandas as pd\n",
    "from kerasbeats import prep_time_series\n",
    "from utils.preprocessingCheckpoint import getPreprocessingCheckpoint\n",
    "from models.architectures.NBEATS.NBEATSModel import NBEATSModel\n",
    "from tensorflow import keras\n",
    "import tensorflow as tf\n"
   ]
  },
  {
   "cell_type": "code",
   "execution_count": 3,
   "metadata": {},
   "outputs": [],
   "source": [
    "trainData, validationData = getPreprocessingCheckpoint()"
   ]
  },
  {
   "cell_type": "code",
   "execution_count": 4,
   "metadata": {},
   "outputs": [],
   "source": [
    "dataset = {\n",
    "    \"features\": trainData[\"features\"],\n",
    "    \"targets\": trainData[\"targets\"],\n",
    "    \"weights\": trainData[\"weights\"],\n",
    "}"
   ]
  },
  {
   "cell_type": "code",
   "execution_count": 5,
   "metadata": {},
   "outputs": [
    {
     "data": {
      "text/plain": [
       "array([[-0.04906158,  0.32236075,  2.31629804, -0.70362568,  0.35170601],\n",
       "       [ 0.00304426, -0.309945  ,  2.28104558, -0.45453641,  0.43153586],\n",
       "       [ 0.62631692,  0.45954869,  2.19640463, -0.31583771,  0.497078  ],\n",
       "       ...,\n",
       "       [-0.00608964, -0.49451708,  1.34191815, -2.03553343, -0.74628732],\n",
       "       [ 0.23747035,  0.34576267,  1.38512626, -1.23622251, -0.75530661],\n",
       "       [-2.68725794,  1.26433206,  1.45325614, -2.09487152, -0.75049123]])"
      ]
     },
     "execution_count": 5,
     "metadata": {},
     "output_type": "execute_result"
    }
   ],
   "source": [
    "inputTest = dataset[\"features\"][0]\n",
    "\n",
    "inputTest"
   ]
  },
  {
   "cell_type": "code",
   "execution_count": 6,
   "metadata": {},
   "outputs": [
    {
     "data": {
      "text/plain": [
       "(420, 5)"
      ]
     },
     "execution_count": 6,
     "metadata": {},
     "output_type": "execute_result"
    }
   ],
   "source": [
    "inputTest.shape"
   ]
  },
  {
   "cell_type": "code",
   "execution_count": 7,
   "metadata": {},
   "outputs": [
    {
     "data": {
      "text/plain": [
       "(420,)"
      ]
     },
     "execution_count": 7,
     "metadata": {},
     "output_type": "execute_result"
    }
   ],
   "source": [
    "signalTest = inputTest[ : , 0 ]\n",
    "signalTest.shape"
   ]
  },
  {
   "cell_type": "code",
   "execution_count": 8,
   "metadata": {},
   "outputs": [],
   "source": [
    "X, y = prep_time_series(signalTest, lookback = 7, horizon = 1)"
   ]
  },
  {
   "cell_type": "code",
   "execution_count": 9,
   "metadata": {},
   "outputs": [
    {
     "data": {
      "text/plain": [
       "((413, 7), (413, 1))"
      ]
     },
     "execution_count": 9,
     "metadata": {},
     "output_type": "execute_result"
    }
   ],
   "source": [
    "X.shape, y.shape"
   ]
  },
  {
   "cell_type": "code",
   "execution_count": 10,
   "metadata": {},
   "outputs": [],
   "source": [
    "nBeats = NBEATSModel()"
   ]
  },
  {
   "cell_type": "code",
   "execution_count": 11,
   "metadata": {},
   "outputs": [],
   "source": [
    "import tensorflow.keras.backend as K"
   ]
  },
  {
   "cell_type": "code",
   "execution_count": null,
   "metadata": {},
   "outputs": [],
   "source": [
    "tf.config.run_functions_eagerly(True)"
   ]
  },
  {
   "cell_type": "code",
   "execution_count": 12,
   "metadata": {},
   "outputs": [
    {
     "name": "stderr",
     "output_type": "stream",
     "text": [
      "2022-10-01 16:06:02.822344: I tensorflow/core/platform/cpu_feature_guard.cc:193] This TensorFlow binary is optimized with oneAPI Deep Neural Network Library (oneDNN) to use the following CPU instructions in performance-critical operations:  AVX2 FMA\n",
      "To enable them in other operations, rebuild TensorFlow with the appropriate compiler flags.\n"
     ]
    },
    {
     "name": "stdout",
     "output_type": "stream",
     "text": [
      "Epoch 1/10\n",
      "1/1 [==============================] - 1s 911ms/step - loss: 0.9635 - mae: 0.9635 - mape: 1266.0277\n",
      "Epoch 2/10\n",
      "1/1 [==============================] - 1s 552ms/step - loss: 11.5869 - mae: 11.5869 - mape: 19763.1699\n",
      "Epoch 3/10\n",
      "1/1 [==============================] - 1s 553ms/step - loss: 10.8454 - mae: 10.8454 - mape: 14831.5879\n",
      "Epoch 4/10\n",
      "1/1 [==============================] - 1s 552ms/step - loss: 3.3813 - mae: 3.3813 - mape: 4971.3872\n",
      "Epoch 5/10\n",
      "1/1 [==============================] - 1s 554ms/step - loss: 1.8437 - mae: 1.8437 - mape: 2865.6924\n",
      "Epoch 6/10\n",
      "1/1 [==============================] - 1s 550ms/step - loss: 1.1038 - mae: 1.1038 - mape: 1929.1271\n",
      "Epoch 7/10\n",
      "1/1 [==============================] - 1s 570ms/step - loss: 0.7007 - mae: 0.7007 - mape: 960.4575\n",
      "Epoch 8/10\n",
      "1/1 [==============================] - 1s 568ms/step - loss: 1.1656 - mae: 1.1656 - mape: 1534.2986\n",
      "Epoch 9/10\n",
      "1/1 [==============================] - 1s 544ms/step - loss: 1.2026 - mae: 1.2026 - mape: 1621.0747\n",
      "Epoch 10/10\n",
      "1/1 [==============================] - 1s 550ms/step - loss: 0.9482 - mae: 0.9482 - mape: 1311.2374\n"
     ]
    },
    {
     "data": {
      "text/plain": [
       "<models.architectures.NBEATS.NBEATSModel.NBEATSModel at 0x13affd7c0>"
      ]
     },
     "execution_count": 12,
     "metadata": {},
     "output_type": "execute_result"
    }
   ],
   "source": [
    "nBeats.fit(X, y, epochs = 10, verbose = True, use_multiprocessing=True)"
   ]
  },
  {
   "cell_type": "code",
   "execution_count": 17,
   "metadata": {},
   "outputs": [],
   "source": [
    "# nBeats.model_layer._residual_collection"
   ]
  },
  {
   "cell_type": "code",
   "execution_count": 18,
   "metadata": {},
   "outputs": [],
   "source": [
    "class CustomCallback(keras.callbacks.Callback):\n",
    "    def on_predict_batch_end(self, batch, logs=None):\n",
    "        keys = list(logs.keys())\n",
    "        print(\"...Predicting: end of batch {}; got log keys: {}\".format(batch, keys))\n",
    "        print(\"\\n\")\n",
    "        print(f\"Esse é o batch: {batch} e esse é o output: {logs['outputs']}\")\n",
    "        forecasts, residuals, backcastHist = self.model.get_layer(\"nbeats\").output\n",
    "        print(\"\\n\")\n",
    "        print(f\"forecast: {forecasts} \\n type {type(forecasts)} \\n value? {K.eval(forecasts)} \")\n",
    "        print(\"\\n\")\n",
    "        print(f\"residual: {residuals} \\n type {type(residuals[0])} \")\n",
    "        print(\"\\n\")\n",
    "        print(f\"backcastHist: {backcastHist} \")\n",
    "        "
   ]
  },
  {
   "cell_type": "code",
   "execution_count": 19,
   "metadata": {},
   "outputs": [
    {
     "name": "stdout",
     "output_type": "stream",
     "text": [
      "...Predicting: end of batch 0; got log keys: ['outputs']\n",
      "\n",
      "\n",
      "Esse é o batch: 0 e esse é o output: [[ 0.16310538]\n",
      " [ 0.13463801]\n",
      " [ 0.1815725 ]\n",
      " [ 0.6857682 ]\n",
      " [ 5.921306  ]\n",
      " [ 0.16603762]\n",
      " [ 0.4821756 ]\n",
      " [ 0.117966  ]\n",
      " [ 0.11101583]\n",
      " [ 0.22188789]\n",
      " [ 0.33769125]\n",
      " [ 0.21121284]\n",
      " [ 0.01802515]\n",
      " [ 0.48957124]\n",
      " [-0.19298632]\n",
      " [ 0.10318866]\n",
      " [ 0.20535341]\n",
      " [ 0.32067832]\n",
      " [ 0.4380926 ]\n",
      " [-1.8292035 ]\n",
      " [ 0.29281524]\n",
      " [ 0.42288792]\n",
      " [ 0.1760519 ]\n",
      " [-0.04439881]\n",
      " [ 0.04788899]\n",
      " [ 0.49549618]\n",
      " [ 1.0540838 ]\n",
      " [-0.05648454]\n",
      " [ 1.0165308 ]\n",
      " [-0.07184599]\n",
      " [ 0.12086914]\n",
      " [-0.5122214 ]]\n",
      "\n",
      "\n"
     ]
    },
    {
     "name": "stderr",
     "output_type": "stream",
     "text": [
      "/Users/I546644/Personal/Unisinos/Codes/MoStress/mostress-dev2-env/lib/python3.9/site-packages/tensorflow/python/data/ops/structured_function.py:264: UserWarning: Even though the `tf.config.experimental_run_functions_eagerly` option is set, this option does not apply to tf.data functions. To force eager execution of tf.data functions, please use `tf.data.experimental.enable_debug_mode()`.\n",
      "  warnings.warn(\n"
     ]
    },
    {
     "ename": "AttributeError",
     "evalue": "'KerasTensor' object has no attribute 'numpy'",
     "output_type": "error",
     "traceback": [
      "\u001b[0;31m---------------------------------------------------------------------------\u001b[0m",
      "\u001b[0;31mAttributeError\u001b[0m                            Traceback (most recent call last)",
      "\u001b[1;32m/Users/I546644/Personal/Unisinos/Codes/MoStress/experiments/NBEATSTesting.ipynb Cell 16\u001b[0m in \u001b[0;36m<cell line: 1>\u001b[0;34m()\u001b[0m\n\u001b[0;32m----> <a href='vscode-notebook-cell:/Users/I546644/Personal/Unisinos/Codes/MoStress/experiments/NBEATSTesting.ipynb#X46sZmlsZQ%3D%3D?line=0'>1</a>\u001b[0m predictions \u001b[39m=\u001b[39m nBeats\u001b[39m.\u001b[39;49mpredict(X, callbacks\u001b[39m=\u001b[39;49m[CustomCallback()])\n",
      "File \u001b[0;32m~/Personal/Unisinos/Codes/MoStress/models/architectures/NBEATS/NBEATSModel.py:133\u001b[0m, in \u001b[0;36mNBEATSModel.predict\u001b[0;34m(self, X, **kwargs)\u001b[0m\n\u001b[1;32m    123\u001b[0m \u001b[39mdef\u001b[39;00m \u001b[39mpredict\u001b[39m(\u001b[39mself\u001b[39m, X, \u001b[39m*\u001b[39m\u001b[39m*\u001b[39mkwargs):\n\u001b[1;32m    124\u001b[0m     \u001b[39m\"\"\"\u001b[39;00m\n\u001b[1;32m    125\u001b[0m \u001b[39m    Passes inputs back to original keras model for prediction\u001b[39;00m\n\u001b[1;32m    126\u001b[0m \u001b[39m    \u001b[39;00m\n\u001b[0;32m   (...)\u001b[0m\n\u001b[1;32m    131\u001b[0m \u001b[39m    :returns: numpy array that contains model predictions for each sample\u001b[39;00m\n\u001b[1;32m    132\u001b[0m \u001b[39m    \"\"\"\u001b[39;00m\n\u001b[0;32m--> 133\u001b[0m     \u001b[39mreturn\u001b[39;00m \u001b[39mself\u001b[39;49m\u001b[39m.\u001b[39;49mmodel\u001b[39m.\u001b[39;49mpredict(X, \u001b[39m*\u001b[39;49m\u001b[39m*\u001b[39;49mkwargs)\n",
      "File \u001b[0;32m~/Personal/Unisinos/Codes/MoStress/mostress-dev2-env/lib/python3.9/site-packages/keras/utils/traceback_utils.py:67\u001b[0m, in \u001b[0;36mfilter_traceback.<locals>.error_handler\u001b[0;34m(*args, **kwargs)\u001b[0m\n\u001b[1;32m     65\u001b[0m \u001b[39mexcept\u001b[39;00m \u001b[39mException\u001b[39;00m \u001b[39mas\u001b[39;00m e:  \u001b[39m# pylint: disable=broad-except\u001b[39;00m\n\u001b[1;32m     66\u001b[0m   filtered_tb \u001b[39m=\u001b[39m _process_traceback_frames(e\u001b[39m.\u001b[39m__traceback__)\n\u001b[0;32m---> 67\u001b[0m   \u001b[39mraise\u001b[39;00m e\u001b[39m.\u001b[39mwith_traceback(filtered_tb) \u001b[39mfrom\u001b[39;00m \u001b[39mNone\u001b[39m\n\u001b[1;32m     68\u001b[0m \u001b[39mfinally\u001b[39;00m:\n\u001b[1;32m     69\u001b[0m   \u001b[39mdel\u001b[39;00m filtered_tb\n",
      "\u001b[1;32m/Users/I546644/Personal/Unisinos/Codes/MoStress/experiments/NBEATSTesting.ipynb Cell 16\u001b[0m in \u001b[0;36mCustomCallback.on_predict_batch_end\u001b[0;34m(self, batch, logs)\u001b[0m\n\u001b[1;32m      <a href='vscode-notebook-cell:/Users/I546644/Personal/Unisinos/Codes/MoStress/experiments/NBEATSTesting.ipynb#X46sZmlsZQ%3D%3D?line=6'>7</a>\u001b[0m forecasts, residuals, backcastHist \u001b[39m=\u001b[39m \u001b[39mself\u001b[39m\u001b[39m.\u001b[39mmodel\u001b[39m.\u001b[39mget_layer(\u001b[39m\"\u001b[39m\u001b[39mnbeats\u001b[39m\u001b[39m\"\u001b[39m)\u001b[39m.\u001b[39moutput\n\u001b[1;32m      <a href='vscode-notebook-cell:/Users/I546644/Personal/Unisinos/Codes/MoStress/experiments/NBEATSTesting.ipynb#X46sZmlsZQ%3D%3D?line=7'>8</a>\u001b[0m \u001b[39mprint\u001b[39m(\u001b[39m\"\u001b[39m\u001b[39m\\n\u001b[39;00m\u001b[39m\"\u001b[39m)\n\u001b[0;32m----> <a href='vscode-notebook-cell:/Users/I546644/Personal/Unisinos/Codes/MoStress/experiments/NBEATSTesting.ipynb#X46sZmlsZQ%3D%3D?line=8'>9</a>\u001b[0m \u001b[39mprint\u001b[39m(\u001b[39mf\u001b[39m\u001b[39m\"\u001b[39m\u001b[39mforecast: \u001b[39m\u001b[39m{\u001b[39;00mforecasts\u001b[39m}\u001b[39;00m\u001b[39m \u001b[39m\u001b[39m\\n\u001b[39;00m\u001b[39m type \u001b[39m\u001b[39m{\u001b[39;00m\u001b[39mtype\u001b[39m(forecasts)\u001b[39m}\u001b[39;00m\u001b[39m \u001b[39m\u001b[39m\\n\u001b[39;00m\u001b[39m value? \u001b[39m\u001b[39m{\u001b[39;00mK\u001b[39m.\u001b[39meval(forecasts)\u001b[39m}\u001b[39;00m\u001b[39m \u001b[39m\u001b[39m\"\u001b[39m)\n\u001b[1;32m     <a href='vscode-notebook-cell:/Users/I546644/Personal/Unisinos/Codes/MoStress/experiments/NBEATSTesting.ipynb#X46sZmlsZQ%3D%3D?line=9'>10</a>\u001b[0m \u001b[39mprint\u001b[39m(\u001b[39m\"\u001b[39m\u001b[39m\\n\u001b[39;00m\u001b[39m\"\u001b[39m)\n\u001b[1;32m     <a href='vscode-notebook-cell:/Users/I546644/Personal/Unisinos/Codes/MoStress/experiments/NBEATSTesting.ipynb#X46sZmlsZQ%3D%3D?line=10'>11</a>\u001b[0m \u001b[39mprint\u001b[39m(\u001b[39mf\u001b[39m\u001b[39m\"\u001b[39m\u001b[39mresidual: \u001b[39m\u001b[39m{\u001b[39;00mresiduals\u001b[39m}\u001b[39;00m\u001b[39m \u001b[39m\u001b[39m\\n\u001b[39;00m\u001b[39m type \u001b[39m\u001b[39m{\u001b[39;00m\u001b[39mtype\u001b[39m(residuals[\u001b[39m0\u001b[39m])\u001b[39m}\u001b[39;00m\u001b[39m \u001b[39m\u001b[39m\"\u001b[39m)\n",
      "\u001b[0;31mAttributeError\u001b[0m: 'KerasTensor' object has no attribute 'numpy'"
     ]
    }
   ],
   "source": [
    "predictions = nBeats.predict(X, callbacks=[CustomCallback()])"
   ]
  },
  {
   "cell_type": "code",
   "execution_count": null,
   "metadata": {},
   "outputs": [],
   "source": [
    "backcastHist = nBeats.backcastHist.predict(X, callbacks=[CustomCallback()])"
   ]
  },
  {
   "cell_type": "code",
   "execution_count": null,
   "metadata": {},
   "outputs": [],
   "source": [
    "residuals = nBeats.residuals.predict(X, callbacks=[CustomCallback()])"
   ]
  },
  {
   "cell_type": "code",
   "execution_count": null,
   "metadata": {},
   "outputs": [],
   "source": [
    "X"
   ]
  },
  {
   "cell_type": "code",
   "execution_count": null,
   "metadata": {},
   "outputs": [],
   "source": [
    "reverseX = K.reverse(X, axes=0)"
   ]
  },
  {
   "cell_type": "code",
   "execution_count": null,
   "metadata": {},
   "outputs": [],
   "source": [
    "reverseX = np.array(reverseX)"
   ]
  },
  {
   "cell_type": "code",
   "execution_count": null,
   "metadata": {},
   "outputs": [],
   "source": [
    "reverseX"
   ]
  },
  {
   "cell_type": "code",
   "execution_count": null,
   "metadata": {},
   "outputs": [],
   "source": [
    "backcastHist[0]"
   ]
  },
  {
   "cell_type": "code",
   "execution_count": null,
   "metadata": {},
   "outputs": [],
   "source": [
    "backcastHist[0] - X"
   ]
  },
  {
   "cell_type": "code",
   "execution_count": null,
   "metadata": {},
   "outputs": [],
   "source": [
    "backcastHist[0] - reverseX"
   ]
  },
  {
   "cell_type": "code",
   "execution_count": null,
   "metadata": {},
   "outputs": [],
   "source": [
    "residuals[0]"
   ]
  },
  {
   "cell_type": "code",
   "execution_count": null,
   "metadata": {},
   "outputs": [],
   "source": [
    "from tensorflow.keras.utils import plot_model"
   ]
  },
  {
   "cell_type": "code",
   "execution_count": null,
   "metadata": {},
   "outputs": [],
   "source": [
    "plot_model(nBeats.residuals, show_layer_names=True)"
   ]
  },
  {
   "cell_type": "code",
   "execution_count": null,
   "metadata": {},
   "outputs": [],
   "source": [
    "nBeats.model"
   ]
  },
  {
   "cell_type": "code",
   "execution_count": null,
   "metadata": {},
   "outputs": [],
   "source": [
    "print(tf.__version__)"
   ]
  },
  {
   "cell_type": "code",
   "execution_count": null,
   "metadata": {},
   "outputs": [],
   "source": [
    "from tensorflow import keras\n",
    "import tensorflow.keras.backend as K"
   ]
  },
  {
   "cell_type": "code",
   "execution_count": null,
   "metadata": {},
   "outputs": [],
   "source": [
    "X"
   ]
  },
  {
   "cell_type": "code",
   "execution_count": null,
   "metadata": {},
   "outputs": [],
   "source": [
    "resid = K.reverse(X, axes=0)\n",
    "resid"
   ]
  },
  {
   "cell_type": "code",
   "execution_count": null,
   "metadata": {},
   "outputs": [],
   "source": [
    "teste = keras.layers.Subtract()([resid, X])"
   ]
  },
  {
   "cell_type": "code",
   "execution_count": null,
   "metadata": {},
   "outputs": [],
   "source": [
    "teste"
   ]
  },
  {
   "cell_type": "code",
   "execution_count": null,
   "metadata": {},
   "outputs": [],
   "source": [
    "timeInputLayers = []\n",
    "nbeatsLayers = []\n",
    "for i in range(inputTest.shape[1]):\n",
    "    time_input = keras.layers.Input(shape = (7, ))\n",
    "    nbeats = NBeatsModel(model_type = 'generic', lookback = 7, horizon = 1).build_layer()\n",
    "    timeInputLayers.append(time_input)\n",
    "    nbeatsLayers.append(nbeats.model_layer(time_input))"
   ]
  },
  {
   "cell_type": "code",
   "execution_count": null,
   "metadata": {},
   "outputs": [],
   "source": [
    "concat = keras.layers.Concatenate()(nbeatsLayers)\n",
    "output = keras.layers.Dense(3, activation=\"softmax\")(concat)\n",
    "model = keras.Model(inputs = timeInputLayers, outputs = output)"
   ]
  },
  {
   "cell_type": "code",
   "execution_count": null,
   "metadata": {},
   "outputs": [],
   "source": [
    "model.compile(loss = 'sparse_categorical_crossentropy')"
   ]
  },
  {
   "cell_type": "code",
   "execution_count": null,
   "metadata": {},
   "outputs": [],
   "source": [
    "x = [ convert_to_tensor(inputTest[:, i]) for i in range(inputTest.shape[1]) ]\n",
    "y = [\n",
    "    np.array(\n",
    "        [\n",
    "            np.int64(randint(0, 2))\n",
    "            for _ in range(inputTest.shape[0])\n",
    "        ]\n",
    "    )\n",
    "    for _ in range(inputTest.shape[1])\n",
    "]"
   ]
  },
  {
   "cell_type": "code",
   "execution_count": null,
   "metadata": {},
   "outputs": [],
   "source": [
    "x = stack(x)\n",
    "y = convert_to_tensor(stack(y))"
   ]
  },
  {
   "cell_type": "code",
   "execution_count": null,
   "metadata": {},
   "outputs": [],
   "source": [
    "model.fit(x, y, verbose = True)"
   ]
  },
  {
   "cell_type": "code",
   "execution_count": null,
   "metadata": {},
   "outputs": [],
   "source": []
  }
 ],
 "metadata": {
  "kernelspec": {
   "display_name": "Python 3.9.7 ('mostress-dev2-env': venv)",
   "language": "python",
   "name": "python3"
  },
  "language_info": {
   "codemirror_mode": {
    "name": "ipython",
    "version": 3
   },
   "file_extension": ".py",
   "mimetype": "text/x-python",
   "name": "python",
   "nbconvert_exporter": "python",
   "pygments_lexer": "ipython3",
   "version": "3.9.7"
  },
  "orig_nbformat": 4,
  "vscode": {
   "interpreter": {
    "hash": "143167f09ea17dc788a92cbc3c59d17d73128ff92566801f762cb232b6bed323"
   }
  }
 },
 "nbformat": 4,
 "nbformat_minor": 2
}
