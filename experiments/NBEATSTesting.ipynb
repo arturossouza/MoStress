{
 "cells": [
  {
   "cell_type": "code",
   "execution_count": 1,
   "metadata": {},
   "outputs": [],
   "source": [
    "import sys\n",
    "import os\n",
    "ROOT_DIR = os.path.abspath(\"/MoStress/\")\n",
    "sys.path.append(ROOT_DIR)"
   ]
  },
  {
   "cell_type": "code",
   "execution_count": 2,
   "metadata": {},
   "outputs": [],
   "source": [
    "import json\n",
    "from os.path import join\n",
    "\n",
    "import numpy as np\n",
    "import pandas as pd\n",
    "from kerasbeats import prep_time_series\n",
    "from utils.preprocessingCheckpoint import getPreprocessingCheckpoint\n",
    "from models.architectures.NBEATS.NBEATSModel import NBEATSModel\n",
    "from tensorflow import keras\n"
   ]
  },
  {
   "cell_type": "code",
   "execution_count": 3,
   "metadata": {},
   "outputs": [],
   "source": [
    "trainData, validationData = getPreprocessingCheckpoint()"
   ]
  },
  {
   "cell_type": "code",
   "execution_count": 4,
   "metadata": {},
   "outputs": [],
   "source": [
    "dataset = {\n",
    "    \"features\": trainData[\"features\"],\n",
    "    \"targets\": trainData[\"targets\"],\n",
    "    \"weights\": trainData[\"weights\"],\n",
    "}"
   ]
  },
  {
   "cell_type": "code",
   "execution_count": 5,
   "metadata": {},
   "outputs": [
    {
     "data": {
      "text/plain": [
       "array([[-0.04906158,  0.32236075,  2.31629804, -0.70362568,  0.35170601],\n",
       "       [ 0.00304426, -0.309945  ,  2.28104558, -0.45453641,  0.43153586],\n",
       "       [ 0.62631692,  0.45954869,  2.19640463, -0.31583771,  0.497078  ],\n",
       "       ...,\n",
       "       [-0.00608964, -0.49451708,  1.34191815, -2.03553343, -0.74628732],\n",
       "       [ 0.23747035,  0.34576267,  1.38512626, -1.23622251, -0.75530661],\n",
       "       [-2.68725794,  1.26433206,  1.45325614, -2.09487152, -0.75049123]])"
      ]
     },
     "execution_count": 5,
     "metadata": {},
     "output_type": "execute_result"
    }
   ],
   "source": [
    "inputTest = dataset[\"features\"][0]\n",
    "\n",
    "inputTest"
   ]
  },
  {
   "cell_type": "code",
   "execution_count": 6,
   "metadata": {},
   "outputs": [
    {
     "data": {
      "text/plain": [
       "(420, 5)"
      ]
     },
     "execution_count": 6,
     "metadata": {},
     "output_type": "execute_result"
    }
   ],
   "source": [
    "inputTest.shape"
   ]
  },
  {
   "cell_type": "code",
   "execution_count": 7,
   "metadata": {},
   "outputs": [
    {
     "data": {
      "text/plain": [
       "(420,)"
      ]
     },
     "execution_count": 7,
     "metadata": {},
     "output_type": "execute_result"
    }
   ],
   "source": [
    "signalTest = inputTest[ : , 0 ]\n",
    "signalTest.shape"
   ]
  },
  {
   "cell_type": "code",
   "execution_count": 8,
   "metadata": {},
   "outputs": [],
   "source": [
    "X, y = prep_time_series(signalTest, lookback = 7, horizon = 1)"
   ]
  },
  {
   "cell_type": "code",
   "execution_count": 9,
   "metadata": {},
   "outputs": [
    {
     "data": {
      "text/plain": [
       "((413, 7), (413, 1))"
      ]
     },
     "execution_count": 9,
     "metadata": {},
     "output_type": "execute_result"
    }
   ],
   "source": [
    "X.shape, y.shape"
   ]
  },
  {
   "cell_type": "code",
   "execution_count": 10,
   "metadata": {},
   "outputs": [],
   "source": [
    "nBeats = NBEATSModel()"
   ]
  },
  {
   "cell_type": "code",
   "execution_count": 11,
   "metadata": {},
   "outputs": [
    {
     "name": "stderr",
     "output_type": "stream",
     "text": [
      "2022-09-29 19:50:16.692361: I tensorflow/core/platform/cpu_feature_guard.cc:193] This TensorFlow binary is optimized with oneAPI Deep Neural Network Library (oneDNN) to use the following CPU instructions in performance-critical operations:  AVX2 FMA\n",
      "To enable them in other operations, rebuild TensorFlow with the appropriate compiler flags.\n"
     ]
    },
    {
     "name": "stdout",
     "output_type": "stream",
     "text": [
      "Epoch 1/10\n",
      "1/1 [==============================] - 7s 7s/step - loss: 0.6702 - mae: 0.6702 - mape: 1039.6436\n",
      "Epoch 2/10\n",
      "1/1 [==============================] - 0s 299ms/step - loss: 10.7098 - mae: 10.7098 - mape: 14957.9092\n",
      "Epoch 3/10\n",
      "1/1 [==============================] - 0s 277ms/step - loss: 2.5895 - mae: 2.5895 - mape: 3029.9153\n",
      "Epoch 4/10\n",
      "1/1 [==============================] - 0s 254ms/step - loss: 21.4527 - mae: 21.4527 - mape: 24954.4102\n",
      "Epoch 5/10\n",
      "1/1 [==============================] - 0s 271ms/step - loss: 2.2382 - mae: 2.2382 - mape: 3254.9941\n",
      "Epoch 6/10\n",
      "1/1 [==============================] - 0s 271ms/step - loss: 0.9186 - mae: 0.9186 - mape: 1384.1648\n",
      "Epoch 7/10\n",
      "1/1 [==============================] - 0s 255ms/step - loss: 0.8628 - mae: 0.8628 - mape: 1319.5848\n",
      "Epoch 8/10\n",
      "1/1 [==============================] - 0s 278ms/step - loss: 0.7866 - mae: 0.7866 - mape: 983.6898\n",
      "Epoch 9/10\n",
      "1/1 [==============================] - 0s 280ms/step - loss: 0.6891 - mae: 0.6891 - mape: 1002.3229\n",
      "Epoch 10/10\n",
      "1/1 [==============================] - 0s 271ms/step - loss: 0.7679 - mae: 0.7679 - mape: 1201.2316\n"
     ]
    },
    {
     "data": {
      "text/plain": [
       "<models.architectures.NBEATS.NBEATSModel.NBEATSModel at 0x132a74ac0>"
      ]
     },
     "execution_count": 11,
     "metadata": {},
     "output_type": "execute_result"
    }
   ],
   "source": [
    "nBeats.fit(X, y, epochs = 10, verbose = True, use_multiprocessing=True)"
   ]
  },
  {
   "cell_type": "code",
   "execution_count": 12,
   "metadata": {},
   "outputs": [],
   "source": [
    "# nBeats.model_layer._residual_collection"
   ]
  },
  {
   "cell_type": "code",
   "execution_count": 13,
   "metadata": {},
   "outputs": [],
   "source": [
    "class CustomCallback(keras.callbacks.Callback):\n",
    "    def on_predict_batch_end(self, batch, logs=None):\n",
    "        keys = list(logs.keys())\n",
    "        print(\"...Predicting: end of batch {}; got log keys: {}\".format(batch, keys))\n",
    "        print(f\"\\n\\n This is the residuals {self.model.get_layer(name = 'nbeats')._residual_collection}\")"
   ]
  },
  {
   "cell_type": "code",
   "execution_count": 14,
   "metadata": {},
   "outputs": [
    {
     "name": "stdout",
     "output_type": "stream",
     "text": [
      "...Predicting: end of batch 0; got log keys: ['outputs']\n",
      "\n",
      "\n",
      " This is the residuals {0: <tf.Tensor 'model/nbeats/subtract/sub:0' shape=(None, 7) dtype=float32>, 1: <tf.Tensor 'model/nbeats/subtract_1/sub:0' shape=(None, 7) dtype=float32>, 2: <tf.Tensor 'model/nbeats/subtract_2/sub:0' shape=(None, 7) dtype=float32>, 3: <tf.Tensor 'model/nbeats/subtract_3/sub:0' shape=(None, 7) dtype=float32>, 4: <tf.Tensor 'model/nbeats/subtract_4/sub:0' shape=(None, 7) dtype=float32>, 5: <tf.Tensor 'model/nbeats/subtract_5/sub:0' shape=(None, 7) dtype=float32>, 6: <tf.Tensor 'model/nbeats/subtract_6/sub:0' shape=(None, 7) dtype=float32>, 7: <tf.Tensor 'model/nbeats/subtract_7/sub:0' shape=(None, 7) dtype=float32>, 8: <tf.Tensor 'model/nbeats/subtract_8/sub:0' shape=(None, 7) dtype=float32>, 9: <tf.Tensor 'model/nbeats/subtract_9/sub:0' shape=(None, 7) dtype=float32>, 10: <tf.Tensor 'model/nbeats/subtract_10/sub:0' shape=(None, 7) dtype=float32>, 11: <tf.Tensor 'model/nbeats/subtract_11/sub:0' shape=(None, 7) dtype=float32>, 12: <tf.Tensor 'model/nbeats/subtract_12/sub:0' shape=(None, 7) dtype=float32>, 13: <tf.Tensor 'model/nbeats/subtract_13/sub:0' shape=(None, 7) dtype=float32>, 14: <tf.Tensor 'model/nbeats/subtract_14/sub:0' shape=(None, 7) dtype=float32>, 15: <tf.Tensor 'model/nbeats/subtract_15/sub:0' shape=(None, 7) dtype=float32>, 16: <tf.Tensor 'model/nbeats/subtract_16/sub:0' shape=(None, 7) dtype=float32>, 17: <tf.Tensor 'model/nbeats/subtract_17/sub:0' shape=(None, 7) dtype=float32>, 18: <tf.Tensor 'model/nbeats/subtract_18/sub:0' shape=(None, 7) dtype=float32>, 19: <tf.Tensor 'model/nbeats/subtract_19/sub:0' shape=(None, 7) dtype=float32>, 20: <tf.Tensor 'model/nbeats/subtract_20/sub:0' shape=(None, 7) dtype=float32>, 21: <tf.Tensor 'model/nbeats/subtract_21/sub:0' shape=(None, 7) dtype=float32>, 22: <tf.Tensor 'model/nbeats/subtract_22/sub:0' shape=(None, 7) dtype=float32>, 23: <tf.Tensor 'model/nbeats/subtract_23/sub:0' shape=(None, 7) dtype=float32>, 24: <tf.Tensor 'model/nbeats/subtract_24/sub:0' shape=(None, 7) dtype=float32>, 25: <tf.Tensor 'model/nbeats/subtract_25/sub:0' shape=(None, 7) dtype=float32>, 26: <tf.Tensor 'model/nbeats/subtract_26/sub:0' shape=(None, 7) dtype=float32>, 27: <tf.Tensor 'model/nbeats/subtract_27/sub:0' shape=(None, 7) dtype=float32>, 28: <tf.Tensor 'model/nbeats/subtract_28/sub:0' shape=(None, 7) dtype=float32>, 29: <tf.Tensor 'model/nbeats/subtract_29/sub:0' shape=(None, 7) dtype=float32>}\n",
      " 1/13 [=>............................] - ETA: 13s...Predicting: end of batch 1; got log keys: ['outputs']\n",
      "\n",
      "\n",
      " This is the residuals {0: <tf.Tensor 'model/nbeats/subtract/sub:0' shape=(None, 7) dtype=float32>, 1: <tf.Tensor 'model/nbeats/subtract_1/sub:0' shape=(None, 7) dtype=float32>, 2: <tf.Tensor 'model/nbeats/subtract_2/sub:0' shape=(None, 7) dtype=float32>, 3: <tf.Tensor 'model/nbeats/subtract_3/sub:0' shape=(None, 7) dtype=float32>, 4: <tf.Tensor 'model/nbeats/subtract_4/sub:0' shape=(None, 7) dtype=float32>, 5: <tf.Tensor 'model/nbeats/subtract_5/sub:0' shape=(None, 7) dtype=float32>, 6: <tf.Tensor 'model/nbeats/subtract_6/sub:0' shape=(None, 7) dtype=float32>, 7: <tf.Tensor 'model/nbeats/subtract_7/sub:0' shape=(None, 7) dtype=float32>, 8: <tf.Tensor 'model/nbeats/subtract_8/sub:0' shape=(None, 7) dtype=float32>, 9: <tf.Tensor 'model/nbeats/subtract_9/sub:0' shape=(None, 7) dtype=float32>, 10: <tf.Tensor 'model/nbeats/subtract_10/sub:0' shape=(None, 7) dtype=float32>, 11: <tf.Tensor 'model/nbeats/subtract_11/sub:0' shape=(None, 7) dtype=float32>, 12: <tf.Tensor 'model/nbeats/subtract_12/sub:0' shape=(None, 7) dtype=float32>, 13: <tf.Tensor 'model/nbeats/subtract_13/sub:0' shape=(None, 7) dtype=float32>, 14: <tf.Tensor 'model/nbeats/subtract_14/sub:0' shape=(None, 7) dtype=float32>, 15: <tf.Tensor 'model/nbeats/subtract_15/sub:0' shape=(None, 7) dtype=float32>, 16: <tf.Tensor 'model/nbeats/subtract_16/sub:0' shape=(None, 7) dtype=float32>, 17: <tf.Tensor 'model/nbeats/subtract_17/sub:0' shape=(None, 7) dtype=float32>, 18: <tf.Tensor 'model/nbeats/subtract_18/sub:0' shape=(None, 7) dtype=float32>, 19: <tf.Tensor 'model/nbeats/subtract_19/sub:0' shape=(None, 7) dtype=float32>, 20: <tf.Tensor 'model/nbeats/subtract_20/sub:0' shape=(None, 7) dtype=float32>, 21: <tf.Tensor 'model/nbeats/subtract_21/sub:0' shape=(None, 7) dtype=float32>, 22: <tf.Tensor 'model/nbeats/subtract_22/sub:0' shape=(None, 7) dtype=float32>, 23: <tf.Tensor 'model/nbeats/subtract_23/sub:0' shape=(None, 7) dtype=float32>, 24: <tf.Tensor 'model/nbeats/subtract_24/sub:0' shape=(None, 7) dtype=float32>, 25: <tf.Tensor 'model/nbeats/subtract_25/sub:0' shape=(None, 7) dtype=float32>, 26: <tf.Tensor 'model/nbeats/subtract_26/sub:0' shape=(None, 7) dtype=float32>, 27: <tf.Tensor 'model/nbeats/subtract_27/sub:0' shape=(None, 7) dtype=float32>, 28: <tf.Tensor 'model/nbeats/subtract_28/sub:0' shape=(None, 7) dtype=float32>, 29: <tf.Tensor 'model/nbeats/subtract_29/sub:0' shape=(None, 7) dtype=float32>}\n",
      "...Predicting: end of batch 2; got log keys: ['outputs']\n",
      "\n",
      "\n",
      " This is the residuals {0: <tf.Tensor 'model/nbeats/subtract/sub:0' shape=(None, 7) dtype=float32>, 1: <tf.Tensor 'model/nbeats/subtract_1/sub:0' shape=(None, 7) dtype=float32>, 2: <tf.Tensor 'model/nbeats/subtract_2/sub:0' shape=(None, 7) dtype=float32>, 3: <tf.Tensor 'model/nbeats/subtract_3/sub:0' shape=(None, 7) dtype=float32>, 4: <tf.Tensor 'model/nbeats/subtract_4/sub:0' shape=(None, 7) dtype=float32>, 5: <tf.Tensor 'model/nbeats/subtract_5/sub:0' shape=(None, 7) dtype=float32>, 6: <tf.Tensor 'model/nbeats/subtract_6/sub:0' shape=(None, 7) dtype=float32>, 7: <tf.Tensor 'model/nbeats/subtract_7/sub:0' shape=(None, 7) dtype=float32>, 8: <tf.Tensor 'model/nbeats/subtract_8/sub:0' shape=(None, 7) dtype=float32>, 9: <tf.Tensor 'model/nbeats/subtract_9/sub:0' shape=(None, 7) dtype=float32>, 10: <tf.Tensor 'model/nbeats/subtract_10/sub:0' shape=(None, 7) dtype=float32>, 11: <tf.Tensor 'model/nbeats/subtract_11/sub:0' shape=(None, 7) dtype=float32>, 12: <tf.Tensor 'model/nbeats/subtract_12/sub:0' shape=(None, 7) dtype=float32>, 13: <tf.Tensor 'model/nbeats/subtract_13/sub:0' shape=(None, 7) dtype=float32>, 14: <tf.Tensor 'model/nbeats/subtract_14/sub:0' shape=(None, 7) dtype=float32>, 15: <tf.Tensor 'model/nbeats/subtract_15/sub:0' shape=(None, 7) dtype=float32>, 16: <tf.Tensor 'model/nbeats/subtract_16/sub:0' shape=(None, 7) dtype=float32>, 17: <tf.Tensor 'model/nbeats/subtract_17/sub:0' shape=(None, 7) dtype=float32>, 18: <tf.Tensor 'model/nbeats/subtract_18/sub:0' shape=(None, 7) dtype=float32>, 19: <tf.Tensor 'model/nbeats/subtract_19/sub:0' shape=(None, 7) dtype=float32>, 20: <tf.Tensor 'model/nbeats/subtract_20/sub:0' shape=(None, 7) dtype=float32>, 21: <tf.Tensor 'model/nbeats/subtract_21/sub:0' shape=(None, 7) dtype=float32>, 22: <tf.Tensor 'model/nbeats/subtract_22/sub:0' shape=(None, 7) dtype=float32>, 23: <tf.Tensor 'model/nbeats/subtract_23/sub:0' shape=(None, 7) dtype=float32>, 24: <tf.Tensor 'model/nbeats/subtract_24/sub:0' shape=(None, 7) dtype=float32>, 25: <tf.Tensor 'model/nbeats/subtract_25/sub:0' shape=(None, 7) dtype=float32>, 26: <tf.Tensor 'model/nbeats/subtract_26/sub:0' shape=(None, 7) dtype=float32>, 27: <tf.Tensor 'model/nbeats/subtract_27/sub:0' shape=(None, 7) dtype=float32>, 28: <tf.Tensor 'model/nbeats/subtract_28/sub:0' shape=(None, 7) dtype=float32>, 29: <tf.Tensor 'model/nbeats/subtract_29/sub:0' shape=(None, 7) dtype=float32>}\n",
      "...Predicting: end of batch 3; got log keys: ['outputs']\n",
      "\n",
      "\n",
      " This is the residuals {0: <tf.Tensor 'model/nbeats/subtract/sub:0' shape=(None, 7) dtype=float32>, 1: <tf.Tensor 'model/nbeats/subtract_1/sub:0' shape=(None, 7) dtype=float32>, 2: <tf.Tensor 'model/nbeats/subtract_2/sub:0' shape=(None, 7) dtype=float32>, 3: <tf.Tensor 'model/nbeats/subtract_3/sub:0' shape=(None, 7) dtype=float32>, 4: <tf.Tensor 'model/nbeats/subtract_4/sub:0' shape=(None, 7) dtype=float32>, 5: <tf.Tensor 'model/nbeats/subtract_5/sub:0' shape=(None, 7) dtype=float32>, 6: <tf.Tensor 'model/nbeats/subtract_6/sub:0' shape=(None, 7) dtype=float32>, 7: <tf.Tensor 'model/nbeats/subtract_7/sub:0' shape=(None, 7) dtype=float32>, 8: <tf.Tensor 'model/nbeats/subtract_8/sub:0' shape=(None, 7) dtype=float32>, 9: <tf.Tensor 'model/nbeats/subtract_9/sub:0' shape=(None, 7) dtype=float32>, 10: <tf.Tensor 'model/nbeats/subtract_10/sub:0' shape=(None, 7) dtype=float32>, 11: <tf.Tensor 'model/nbeats/subtract_11/sub:0' shape=(None, 7) dtype=float32>, 12: <tf.Tensor 'model/nbeats/subtract_12/sub:0' shape=(None, 7) dtype=float32>, 13: <tf.Tensor 'model/nbeats/subtract_13/sub:0' shape=(None, 7) dtype=float32>, 14: <tf.Tensor 'model/nbeats/subtract_14/sub:0' shape=(None, 7) dtype=float32>, 15: <tf.Tensor 'model/nbeats/subtract_15/sub:0' shape=(None, 7) dtype=float32>, 16: <tf.Tensor 'model/nbeats/subtract_16/sub:0' shape=(None, 7) dtype=float32>, 17: <tf.Tensor 'model/nbeats/subtract_17/sub:0' shape=(None, 7) dtype=float32>, 18: <tf.Tensor 'model/nbeats/subtract_18/sub:0' shape=(None, 7) dtype=float32>, 19: <tf.Tensor 'model/nbeats/subtract_19/sub:0' shape=(None, 7) dtype=float32>, 20: <tf.Tensor 'model/nbeats/subtract_20/sub:0' shape=(None, 7) dtype=float32>, 21: <tf.Tensor 'model/nbeats/subtract_21/sub:0' shape=(None, 7) dtype=float32>, 22: <tf.Tensor 'model/nbeats/subtract_22/sub:0' shape=(None, 7) dtype=float32>, 23: <tf.Tensor 'model/nbeats/subtract_23/sub:0' shape=(None, 7) dtype=float32>, 24: <tf.Tensor 'model/nbeats/subtract_24/sub:0' shape=(None, 7) dtype=float32>, 25: <tf.Tensor 'model/nbeats/subtract_25/sub:0' shape=(None, 7) dtype=float32>, 26: <tf.Tensor 'model/nbeats/subtract_26/sub:0' shape=(None, 7) dtype=float32>, 27: <tf.Tensor 'model/nbeats/subtract_27/sub:0' shape=(None, 7) dtype=float32>, 28: <tf.Tensor 'model/nbeats/subtract_28/sub:0' shape=(None, 7) dtype=float32>, 29: <tf.Tensor 'model/nbeats/subtract_29/sub:0' shape=(None, 7) dtype=float32>}\n",
      " 4/13 [========>.....................] - ETA: 0s ...Predicting: end of batch 4; got log keys: ['outputs']\n",
      "\n",
      "\n",
      " This is the residuals {0: <tf.Tensor 'model/nbeats/subtract/sub:0' shape=(None, 7) dtype=float32>, 1: <tf.Tensor 'model/nbeats/subtract_1/sub:0' shape=(None, 7) dtype=float32>, 2: <tf.Tensor 'model/nbeats/subtract_2/sub:0' shape=(None, 7) dtype=float32>, 3: <tf.Tensor 'model/nbeats/subtract_3/sub:0' shape=(None, 7) dtype=float32>, 4: <tf.Tensor 'model/nbeats/subtract_4/sub:0' shape=(None, 7) dtype=float32>, 5: <tf.Tensor 'model/nbeats/subtract_5/sub:0' shape=(None, 7) dtype=float32>, 6: <tf.Tensor 'model/nbeats/subtract_6/sub:0' shape=(None, 7) dtype=float32>, 7: <tf.Tensor 'model/nbeats/subtract_7/sub:0' shape=(None, 7) dtype=float32>, 8: <tf.Tensor 'model/nbeats/subtract_8/sub:0' shape=(None, 7) dtype=float32>, 9: <tf.Tensor 'model/nbeats/subtract_9/sub:0' shape=(None, 7) dtype=float32>, 10: <tf.Tensor 'model/nbeats/subtract_10/sub:0' shape=(None, 7) dtype=float32>, 11: <tf.Tensor 'model/nbeats/subtract_11/sub:0' shape=(None, 7) dtype=float32>, 12: <tf.Tensor 'model/nbeats/subtract_12/sub:0' shape=(None, 7) dtype=float32>, 13: <tf.Tensor 'model/nbeats/subtract_13/sub:0' shape=(None, 7) dtype=float32>, 14: <tf.Tensor 'model/nbeats/subtract_14/sub:0' shape=(None, 7) dtype=float32>, 15: <tf.Tensor 'model/nbeats/subtract_15/sub:0' shape=(None, 7) dtype=float32>, 16: <tf.Tensor 'model/nbeats/subtract_16/sub:0' shape=(None, 7) dtype=float32>, 17: <tf.Tensor 'model/nbeats/subtract_17/sub:0' shape=(None, 7) dtype=float32>, 18: <tf.Tensor 'model/nbeats/subtract_18/sub:0' shape=(None, 7) dtype=float32>, 19: <tf.Tensor 'model/nbeats/subtract_19/sub:0' shape=(None, 7) dtype=float32>, 20: <tf.Tensor 'model/nbeats/subtract_20/sub:0' shape=(None, 7) dtype=float32>, 21: <tf.Tensor 'model/nbeats/subtract_21/sub:0' shape=(None, 7) dtype=float32>, 22: <tf.Tensor 'model/nbeats/subtract_22/sub:0' shape=(None, 7) dtype=float32>, 23: <tf.Tensor 'model/nbeats/subtract_23/sub:0' shape=(None, 7) dtype=float32>, 24: <tf.Tensor 'model/nbeats/subtract_24/sub:0' shape=(None, 7) dtype=float32>, 25: <tf.Tensor 'model/nbeats/subtract_25/sub:0' shape=(None, 7) dtype=float32>, 26: <tf.Tensor 'model/nbeats/subtract_26/sub:0' shape=(None, 7) dtype=float32>, 27: <tf.Tensor 'model/nbeats/subtract_27/sub:0' shape=(None, 7) dtype=float32>, 28: <tf.Tensor 'model/nbeats/subtract_28/sub:0' shape=(None, 7) dtype=float32>, 29: <tf.Tensor 'model/nbeats/subtract_29/sub:0' shape=(None, 7) dtype=float32>}\n",
      "...Predicting: end of batch 5; got log keys: ['outputs']\n",
      "\n",
      "\n",
      " This is the residuals {0: <tf.Tensor 'model/nbeats/subtract/sub:0' shape=(None, 7) dtype=float32>, 1: <tf.Tensor 'model/nbeats/subtract_1/sub:0' shape=(None, 7) dtype=float32>, 2: <tf.Tensor 'model/nbeats/subtract_2/sub:0' shape=(None, 7) dtype=float32>, 3: <tf.Tensor 'model/nbeats/subtract_3/sub:0' shape=(None, 7) dtype=float32>, 4: <tf.Tensor 'model/nbeats/subtract_4/sub:0' shape=(None, 7) dtype=float32>, 5: <tf.Tensor 'model/nbeats/subtract_5/sub:0' shape=(None, 7) dtype=float32>, 6: <tf.Tensor 'model/nbeats/subtract_6/sub:0' shape=(None, 7) dtype=float32>, 7: <tf.Tensor 'model/nbeats/subtract_7/sub:0' shape=(None, 7) dtype=float32>, 8: <tf.Tensor 'model/nbeats/subtract_8/sub:0' shape=(None, 7) dtype=float32>, 9: <tf.Tensor 'model/nbeats/subtract_9/sub:0' shape=(None, 7) dtype=float32>, 10: <tf.Tensor 'model/nbeats/subtract_10/sub:0' shape=(None, 7) dtype=float32>, 11: <tf.Tensor 'model/nbeats/subtract_11/sub:0' shape=(None, 7) dtype=float32>, 12: <tf.Tensor 'model/nbeats/subtract_12/sub:0' shape=(None, 7) dtype=float32>, 13: <tf.Tensor 'model/nbeats/subtract_13/sub:0' shape=(None, 7) dtype=float32>, 14: <tf.Tensor 'model/nbeats/subtract_14/sub:0' shape=(None, 7) dtype=float32>, 15: <tf.Tensor 'model/nbeats/subtract_15/sub:0' shape=(None, 7) dtype=float32>, 16: <tf.Tensor 'model/nbeats/subtract_16/sub:0' shape=(None, 7) dtype=float32>, 17: <tf.Tensor 'model/nbeats/subtract_17/sub:0' shape=(None, 7) dtype=float32>, 18: <tf.Tensor 'model/nbeats/subtract_18/sub:0' shape=(None, 7) dtype=float32>, 19: <tf.Tensor 'model/nbeats/subtract_19/sub:0' shape=(None, 7) dtype=float32>, 20: <tf.Tensor 'model/nbeats/subtract_20/sub:0' shape=(None, 7) dtype=float32>, 21: <tf.Tensor 'model/nbeats/subtract_21/sub:0' shape=(None, 7) dtype=float32>, 22: <tf.Tensor 'model/nbeats/subtract_22/sub:0' shape=(None, 7) dtype=float32>, 23: <tf.Tensor 'model/nbeats/subtract_23/sub:0' shape=(None, 7) dtype=float32>, 24: <tf.Tensor 'model/nbeats/subtract_24/sub:0' shape=(None, 7) dtype=float32>, 25: <tf.Tensor 'model/nbeats/subtract_25/sub:0' shape=(None, 7) dtype=float32>, 26: <tf.Tensor 'model/nbeats/subtract_26/sub:0' shape=(None, 7) dtype=float32>, 27: <tf.Tensor 'model/nbeats/subtract_27/sub:0' shape=(None, 7) dtype=float32>, 28: <tf.Tensor 'model/nbeats/subtract_28/sub:0' shape=(None, 7) dtype=float32>, 29: <tf.Tensor 'model/nbeats/subtract_29/sub:0' shape=(None, 7) dtype=float32>}\n",
      " 6/13 [============>.................] - ETA: 0s...Predicting: end of batch 6; got log keys: ['outputs']\n",
      "\n",
      "\n",
      " This is the residuals {0: <tf.Tensor 'model/nbeats/subtract/sub:0' shape=(None, 7) dtype=float32>, 1: <tf.Tensor 'model/nbeats/subtract_1/sub:0' shape=(None, 7) dtype=float32>, 2: <tf.Tensor 'model/nbeats/subtract_2/sub:0' shape=(None, 7) dtype=float32>, 3: <tf.Tensor 'model/nbeats/subtract_3/sub:0' shape=(None, 7) dtype=float32>, 4: <tf.Tensor 'model/nbeats/subtract_4/sub:0' shape=(None, 7) dtype=float32>, 5: <tf.Tensor 'model/nbeats/subtract_5/sub:0' shape=(None, 7) dtype=float32>, 6: <tf.Tensor 'model/nbeats/subtract_6/sub:0' shape=(None, 7) dtype=float32>, 7: <tf.Tensor 'model/nbeats/subtract_7/sub:0' shape=(None, 7) dtype=float32>, 8: <tf.Tensor 'model/nbeats/subtract_8/sub:0' shape=(None, 7) dtype=float32>, 9: <tf.Tensor 'model/nbeats/subtract_9/sub:0' shape=(None, 7) dtype=float32>, 10: <tf.Tensor 'model/nbeats/subtract_10/sub:0' shape=(None, 7) dtype=float32>, 11: <tf.Tensor 'model/nbeats/subtract_11/sub:0' shape=(None, 7) dtype=float32>, 12: <tf.Tensor 'model/nbeats/subtract_12/sub:0' shape=(None, 7) dtype=float32>, 13: <tf.Tensor 'model/nbeats/subtract_13/sub:0' shape=(None, 7) dtype=float32>, 14: <tf.Tensor 'model/nbeats/subtract_14/sub:0' shape=(None, 7) dtype=float32>, 15: <tf.Tensor 'model/nbeats/subtract_15/sub:0' shape=(None, 7) dtype=float32>, 16: <tf.Tensor 'model/nbeats/subtract_16/sub:0' shape=(None, 7) dtype=float32>, 17: <tf.Tensor 'model/nbeats/subtract_17/sub:0' shape=(None, 7) dtype=float32>, 18: <tf.Tensor 'model/nbeats/subtract_18/sub:0' shape=(None, 7) dtype=float32>, 19: <tf.Tensor 'model/nbeats/subtract_19/sub:0' shape=(None, 7) dtype=float32>, 20: <tf.Tensor 'model/nbeats/subtract_20/sub:0' shape=(None, 7) dtype=float32>, 21: <tf.Tensor 'model/nbeats/subtract_21/sub:0' shape=(None, 7) dtype=float32>, 22: <tf.Tensor 'model/nbeats/subtract_22/sub:0' shape=(None, 7) dtype=float32>, 23: <tf.Tensor 'model/nbeats/subtract_23/sub:0' shape=(None, 7) dtype=float32>, 24: <tf.Tensor 'model/nbeats/subtract_24/sub:0' shape=(None, 7) dtype=float32>, 25: <tf.Tensor 'model/nbeats/subtract_25/sub:0' shape=(None, 7) dtype=float32>, 26: <tf.Tensor 'model/nbeats/subtract_26/sub:0' shape=(None, 7) dtype=float32>, 27: <tf.Tensor 'model/nbeats/subtract_27/sub:0' shape=(None, 7) dtype=float32>, 28: <tf.Tensor 'model/nbeats/subtract_28/sub:0' shape=(None, 7) dtype=float32>, 29: <tf.Tensor 'model/nbeats/subtract_29/sub:0' shape=(None, 7) dtype=float32>}\n",
      "...Predicting: end of batch 7; got log keys: ['outputs']\n",
      "\n",
      "\n",
      " This is the residuals {0: <tf.Tensor 'model/nbeats/subtract/sub:0' shape=(None, 7) dtype=float32>, 1: <tf.Tensor 'model/nbeats/subtract_1/sub:0' shape=(None, 7) dtype=float32>, 2: <tf.Tensor 'model/nbeats/subtract_2/sub:0' shape=(None, 7) dtype=float32>, 3: <tf.Tensor 'model/nbeats/subtract_3/sub:0' shape=(None, 7) dtype=float32>, 4: <tf.Tensor 'model/nbeats/subtract_4/sub:0' shape=(None, 7) dtype=float32>, 5: <tf.Tensor 'model/nbeats/subtract_5/sub:0' shape=(None, 7) dtype=float32>, 6: <tf.Tensor 'model/nbeats/subtract_6/sub:0' shape=(None, 7) dtype=float32>, 7: <tf.Tensor 'model/nbeats/subtract_7/sub:0' shape=(None, 7) dtype=float32>, 8: <tf.Tensor 'model/nbeats/subtract_8/sub:0' shape=(None, 7) dtype=float32>, 9: <tf.Tensor 'model/nbeats/subtract_9/sub:0' shape=(None, 7) dtype=float32>, 10: <tf.Tensor 'model/nbeats/subtract_10/sub:0' shape=(None, 7) dtype=float32>, 11: <tf.Tensor 'model/nbeats/subtract_11/sub:0' shape=(None, 7) dtype=float32>, 12: <tf.Tensor 'model/nbeats/subtract_12/sub:0' shape=(None, 7) dtype=float32>, 13: <tf.Tensor 'model/nbeats/subtract_13/sub:0' shape=(None, 7) dtype=float32>, 14: <tf.Tensor 'model/nbeats/subtract_14/sub:0' shape=(None, 7) dtype=float32>, 15: <tf.Tensor 'model/nbeats/subtract_15/sub:0' shape=(None, 7) dtype=float32>, 16: <tf.Tensor 'model/nbeats/subtract_16/sub:0' shape=(None, 7) dtype=float32>, 17: <tf.Tensor 'model/nbeats/subtract_17/sub:0' shape=(None, 7) dtype=float32>, 18: <tf.Tensor 'model/nbeats/subtract_18/sub:0' shape=(None, 7) dtype=float32>, 19: <tf.Tensor 'model/nbeats/subtract_19/sub:0' shape=(None, 7) dtype=float32>, 20: <tf.Tensor 'model/nbeats/subtract_20/sub:0' shape=(None, 7) dtype=float32>, 21: <tf.Tensor 'model/nbeats/subtract_21/sub:0' shape=(None, 7) dtype=float32>, 22: <tf.Tensor 'model/nbeats/subtract_22/sub:0' shape=(None, 7) dtype=float32>, 23: <tf.Tensor 'model/nbeats/subtract_23/sub:0' shape=(None, 7) dtype=float32>, 24: <tf.Tensor 'model/nbeats/subtract_24/sub:0' shape=(None, 7) dtype=float32>, 25: <tf.Tensor 'model/nbeats/subtract_25/sub:0' shape=(None, 7) dtype=float32>, 26: <tf.Tensor 'model/nbeats/subtract_26/sub:0' shape=(None, 7) dtype=float32>, 27: <tf.Tensor 'model/nbeats/subtract_27/sub:0' shape=(None, 7) dtype=float32>, 28: <tf.Tensor 'model/nbeats/subtract_28/sub:0' shape=(None, 7) dtype=float32>, 29: <tf.Tensor 'model/nbeats/subtract_29/sub:0' shape=(None, 7) dtype=float32>}\n",
      "...Predicting: end of batch 8; got log keys: ['outputs']\n",
      "\n",
      "\n",
      " This is the residuals {0: <tf.Tensor 'model/nbeats/subtract/sub:0' shape=(None, 7) dtype=float32>, 1: <tf.Tensor 'model/nbeats/subtract_1/sub:0' shape=(None, 7) dtype=float32>, 2: <tf.Tensor 'model/nbeats/subtract_2/sub:0' shape=(None, 7) dtype=float32>, 3: <tf.Tensor 'model/nbeats/subtract_3/sub:0' shape=(None, 7) dtype=float32>, 4: <tf.Tensor 'model/nbeats/subtract_4/sub:0' shape=(None, 7) dtype=float32>, 5: <tf.Tensor 'model/nbeats/subtract_5/sub:0' shape=(None, 7) dtype=float32>, 6: <tf.Tensor 'model/nbeats/subtract_6/sub:0' shape=(None, 7) dtype=float32>, 7: <tf.Tensor 'model/nbeats/subtract_7/sub:0' shape=(None, 7) dtype=float32>, 8: <tf.Tensor 'model/nbeats/subtract_8/sub:0' shape=(None, 7) dtype=float32>, 9: <tf.Tensor 'model/nbeats/subtract_9/sub:0' shape=(None, 7) dtype=float32>, 10: <tf.Tensor 'model/nbeats/subtract_10/sub:0' shape=(None, 7) dtype=float32>, 11: <tf.Tensor 'model/nbeats/subtract_11/sub:0' shape=(None, 7) dtype=float32>, 12: <tf.Tensor 'model/nbeats/subtract_12/sub:0' shape=(None, 7) dtype=float32>, 13: <tf.Tensor 'model/nbeats/subtract_13/sub:0' shape=(None, 7) dtype=float32>, 14: <tf.Tensor 'model/nbeats/subtract_14/sub:0' shape=(None, 7) dtype=float32>, 15: <tf.Tensor 'model/nbeats/subtract_15/sub:0' shape=(None, 7) dtype=float32>, 16: <tf.Tensor 'model/nbeats/subtract_16/sub:0' shape=(None, 7) dtype=float32>, 17: <tf.Tensor 'model/nbeats/subtract_17/sub:0' shape=(None, 7) dtype=float32>, 18: <tf.Tensor 'model/nbeats/subtract_18/sub:0' shape=(None, 7) dtype=float32>, 19: <tf.Tensor 'model/nbeats/subtract_19/sub:0' shape=(None, 7) dtype=float32>, 20: <tf.Tensor 'model/nbeats/subtract_20/sub:0' shape=(None, 7) dtype=float32>, 21: <tf.Tensor 'model/nbeats/subtract_21/sub:0' shape=(None, 7) dtype=float32>, 22: <tf.Tensor 'model/nbeats/subtract_22/sub:0' shape=(None, 7) dtype=float32>, 23: <tf.Tensor 'model/nbeats/subtract_23/sub:0' shape=(None, 7) dtype=float32>, 24: <tf.Tensor 'model/nbeats/subtract_24/sub:0' shape=(None, 7) dtype=float32>, 25: <tf.Tensor 'model/nbeats/subtract_25/sub:0' shape=(None, 7) dtype=float32>, 26: <tf.Tensor 'model/nbeats/subtract_26/sub:0' shape=(None, 7) dtype=float32>, 27: <tf.Tensor 'model/nbeats/subtract_27/sub:0' shape=(None, 7) dtype=float32>, 28: <tf.Tensor 'model/nbeats/subtract_28/sub:0' shape=(None, 7) dtype=float32>, 29: <tf.Tensor 'model/nbeats/subtract_29/sub:0' shape=(None, 7) dtype=float32>}\n",
      " 9/13 [===================>..........] - ETA: 0s...Predicting: end of batch 9; got log keys: ['outputs']\n",
      "\n",
      "\n",
      " This is the residuals {0: <tf.Tensor 'model/nbeats/subtract/sub:0' shape=(None, 7) dtype=float32>, 1: <tf.Tensor 'model/nbeats/subtract_1/sub:0' shape=(None, 7) dtype=float32>, 2: <tf.Tensor 'model/nbeats/subtract_2/sub:0' shape=(None, 7) dtype=float32>, 3: <tf.Tensor 'model/nbeats/subtract_3/sub:0' shape=(None, 7) dtype=float32>, 4: <tf.Tensor 'model/nbeats/subtract_4/sub:0' shape=(None, 7) dtype=float32>, 5: <tf.Tensor 'model/nbeats/subtract_5/sub:0' shape=(None, 7) dtype=float32>, 6: <tf.Tensor 'model/nbeats/subtract_6/sub:0' shape=(None, 7) dtype=float32>, 7: <tf.Tensor 'model/nbeats/subtract_7/sub:0' shape=(None, 7) dtype=float32>, 8: <tf.Tensor 'model/nbeats/subtract_8/sub:0' shape=(None, 7) dtype=float32>, 9: <tf.Tensor 'model/nbeats/subtract_9/sub:0' shape=(None, 7) dtype=float32>, 10: <tf.Tensor 'model/nbeats/subtract_10/sub:0' shape=(None, 7) dtype=float32>, 11: <tf.Tensor 'model/nbeats/subtract_11/sub:0' shape=(None, 7) dtype=float32>, 12: <tf.Tensor 'model/nbeats/subtract_12/sub:0' shape=(None, 7) dtype=float32>, 13: <tf.Tensor 'model/nbeats/subtract_13/sub:0' shape=(None, 7) dtype=float32>, 14: <tf.Tensor 'model/nbeats/subtract_14/sub:0' shape=(None, 7) dtype=float32>, 15: <tf.Tensor 'model/nbeats/subtract_15/sub:0' shape=(None, 7) dtype=float32>, 16: <tf.Tensor 'model/nbeats/subtract_16/sub:0' shape=(None, 7) dtype=float32>, 17: <tf.Tensor 'model/nbeats/subtract_17/sub:0' shape=(None, 7) dtype=float32>, 18: <tf.Tensor 'model/nbeats/subtract_18/sub:0' shape=(None, 7) dtype=float32>, 19: <tf.Tensor 'model/nbeats/subtract_19/sub:0' shape=(None, 7) dtype=float32>, 20: <tf.Tensor 'model/nbeats/subtract_20/sub:0' shape=(None, 7) dtype=float32>, 21: <tf.Tensor 'model/nbeats/subtract_21/sub:0' shape=(None, 7) dtype=float32>, 22: <tf.Tensor 'model/nbeats/subtract_22/sub:0' shape=(None, 7) dtype=float32>, 23: <tf.Tensor 'model/nbeats/subtract_23/sub:0' shape=(None, 7) dtype=float32>, 24: <tf.Tensor 'model/nbeats/subtract_24/sub:0' shape=(None, 7) dtype=float32>, 25: <tf.Tensor 'model/nbeats/subtract_25/sub:0' shape=(None, 7) dtype=float32>, 26: <tf.Tensor 'model/nbeats/subtract_26/sub:0' shape=(None, 7) dtype=float32>, 27: <tf.Tensor 'model/nbeats/subtract_27/sub:0' shape=(None, 7) dtype=float32>, 28: <tf.Tensor 'model/nbeats/subtract_28/sub:0' shape=(None, 7) dtype=float32>, 29: <tf.Tensor 'model/nbeats/subtract_29/sub:0' shape=(None, 7) dtype=float32>}\n",
      "...Predicting: end of batch 10; got log keys: ['outputs']\n",
      "\n",
      "\n",
      " This is the residuals {0: <tf.Tensor 'model/nbeats/subtract/sub:0' shape=(None, 7) dtype=float32>, 1: <tf.Tensor 'model/nbeats/subtract_1/sub:0' shape=(None, 7) dtype=float32>, 2: <tf.Tensor 'model/nbeats/subtract_2/sub:0' shape=(None, 7) dtype=float32>, 3: <tf.Tensor 'model/nbeats/subtract_3/sub:0' shape=(None, 7) dtype=float32>, 4: <tf.Tensor 'model/nbeats/subtract_4/sub:0' shape=(None, 7) dtype=float32>, 5: <tf.Tensor 'model/nbeats/subtract_5/sub:0' shape=(None, 7) dtype=float32>, 6: <tf.Tensor 'model/nbeats/subtract_6/sub:0' shape=(None, 7) dtype=float32>, 7: <tf.Tensor 'model/nbeats/subtract_7/sub:0' shape=(None, 7) dtype=float32>, 8: <tf.Tensor 'model/nbeats/subtract_8/sub:0' shape=(None, 7) dtype=float32>, 9: <tf.Tensor 'model/nbeats/subtract_9/sub:0' shape=(None, 7) dtype=float32>, 10: <tf.Tensor 'model/nbeats/subtract_10/sub:0' shape=(None, 7) dtype=float32>, 11: <tf.Tensor 'model/nbeats/subtract_11/sub:0' shape=(None, 7) dtype=float32>, 12: <tf.Tensor 'model/nbeats/subtract_12/sub:0' shape=(None, 7) dtype=float32>, 13: <tf.Tensor 'model/nbeats/subtract_13/sub:0' shape=(None, 7) dtype=float32>, 14: <tf.Tensor 'model/nbeats/subtract_14/sub:0' shape=(None, 7) dtype=float32>, 15: <tf.Tensor 'model/nbeats/subtract_15/sub:0' shape=(None, 7) dtype=float32>, 16: <tf.Tensor 'model/nbeats/subtract_16/sub:0' shape=(None, 7) dtype=float32>, 17: <tf.Tensor 'model/nbeats/subtract_17/sub:0' shape=(None, 7) dtype=float32>, 18: <tf.Tensor 'model/nbeats/subtract_18/sub:0' shape=(None, 7) dtype=float32>, 19: <tf.Tensor 'model/nbeats/subtract_19/sub:0' shape=(None, 7) dtype=float32>, 20: <tf.Tensor 'model/nbeats/subtract_20/sub:0' shape=(None, 7) dtype=float32>, 21: <tf.Tensor 'model/nbeats/subtract_21/sub:0' shape=(None, 7) dtype=float32>, 22: <tf.Tensor 'model/nbeats/subtract_22/sub:0' shape=(None, 7) dtype=float32>, 23: <tf.Tensor 'model/nbeats/subtract_23/sub:0' shape=(None, 7) dtype=float32>, 24: <tf.Tensor 'model/nbeats/subtract_24/sub:0' shape=(None, 7) dtype=float32>, 25: <tf.Tensor 'model/nbeats/subtract_25/sub:0' shape=(None, 7) dtype=float32>, 26: <tf.Tensor 'model/nbeats/subtract_26/sub:0' shape=(None, 7) dtype=float32>, 27: <tf.Tensor 'model/nbeats/subtract_27/sub:0' shape=(None, 7) dtype=float32>, 28: <tf.Tensor 'model/nbeats/subtract_28/sub:0' shape=(None, 7) dtype=float32>, 29: <tf.Tensor 'model/nbeats/subtract_29/sub:0' shape=(None, 7) dtype=float32>}\n",
      "...Predicting: end of batch 11; got log keys: ['outputs']\n",
      "\n",
      "\n",
      " This is the residuals {0: <tf.Tensor 'model/nbeats/subtract/sub:0' shape=(None, 7) dtype=float32>, 1: <tf.Tensor 'model/nbeats/subtract_1/sub:0' shape=(None, 7) dtype=float32>, 2: <tf.Tensor 'model/nbeats/subtract_2/sub:0' shape=(None, 7) dtype=float32>, 3: <tf.Tensor 'model/nbeats/subtract_3/sub:0' shape=(None, 7) dtype=float32>, 4: <tf.Tensor 'model/nbeats/subtract_4/sub:0' shape=(None, 7) dtype=float32>, 5: <tf.Tensor 'model/nbeats/subtract_5/sub:0' shape=(None, 7) dtype=float32>, 6: <tf.Tensor 'model/nbeats/subtract_6/sub:0' shape=(None, 7) dtype=float32>, 7: <tf.Tensor 'model/nbeats/subtract_7/sub:0' shape=(None, 7) dtype=float32>, 8: <tf.Tensor 'model/nbeats/subtract_8/sub:0' shape=(None, 7) dtype=float32>, 9: <tf.Tensor 'model/nbeats/subtract_9/sub:0' shape=(None, 7) dtype=float32>, 10: <tf.Tensor 'model/nbeats/subtract_10/sub:0' shape=(None, 7) dtype=float32>, 11: <tf.Tensor 'model/nbeats/subtract_11/sub:0' shape=(None, 7) dtype=float32>, 12: <tf.Tensor 'model/nbeats/subtract_12/sub:0' shape=(None, 7) dtype=float32>, 13: <tf.Tensor 'model/nbeats/subtract_13/sub:0' shape=(None, 7) dtype=float32>, 14: <tf.Tensor 'model/nbeats/subtract_14/sub:0' shape=(None, 7) dtype=float32>, 15: <tf.Tensor 'model/nbeats/subtract_15/sub:0' shape=(None, 7) dtype=float32>, 16: <tf.Tensor 'model/nbeats/subtract_16/sub:0' shape=(None, 7) dtype=float32>, 17: <tf.Tensor 'model/nbeats/subtract_17/sub:0' shape=(None, 7) dtype=float32>, 18: <tf.Tensor 'model/nbeats/subtract_18/sub:0' shape=(None, 7) dtype=float32>, 19: <tf.Tensor 'model/nbeats/subtract_19/sub:0' shape=(None, 7) dtype=float32>, 20: <tf.Tensor 'model/nbeats/subtract_20/sub:0' shape=(None, 7) dtype=float32>, 21: <tf.Tensor 'model/nbeats/subtract_21/sub:0' shape=(None, 7) dtype=float32>, 22: <tf.Tensor 'model/nbeats/subtract_22/sub:0' shape=(None, 7) dtype=float32>, 23: <tf.Tensor 'model/nbeats/subtract_23/sub:0' shape=(None, 7) dtype=float32>, 24: <tf.Tensor 'model/nbeats/subtract_24/sub:0' shape=(None, 7) dtype=float32>, 25: <tf.Tensor 'model/nbeats/subtract_25/sub:0' shape=(None, 7) dtype=float32>, 26: <tf.Tensor 'model/nbeats/subtract_26/sub:0' shape=(None, 7) dtype=float32>, 27: <tf.Tensor 'model/nbeats/subtract_27/sub:0' shape=(None, 7) dtype=float32>, 28: <tf.Tensor 'model/nbeats/subtract_28/sub:0' shape=(None, 7) dtype=float32>, 29: <tf.Tensor 'model/nbeats/subtract_29/sub:0' shape=(None, 7) dtype=float32>}\n",
      "12/13 [==========================>...] - ETA: 0s...Predicting: end of batch 12; got log keys: ['outputs']\n",
      "\n",
      "\n",
      " This is the residuals {0: <tf.Tensor 'model/nbeats/subtract/sub:0' shape=(None, 7) dtype=float32>, 1: <tf.Tensor 'model/nbeats/subtract_1/sub:0' shape=(None, 7) dtype=float32>, 2: <tf.Tensor 'model/nbeats/subtract_2/sub:0' shape=(None, 7) dtype=float32>, 3: <tf.Tensor 'model/nbeats/subtract_3/sub:0' shape=(None, 7) dtype=float32>, 4: <tf.Tensor 'model/nbeats/subtract_4/sub:0' shape=(None, 7) dtype=float32>, 5: <tf.Tensor 'model/nbeats/subtract_5/sub:0' shape=(None, 7) dtype=float32>, 6: <tf.Tensor 'model/nbeats/subtract_6/sub:0' shape=(None, 7) dtype=float32>, 7: <tf.Tensor 'model/nbeats/subtract_7/sub:0' shape=(None, 7) dtype=float32>, 8: <tf.Tensor 'model/nbeats/subtract_8/sub:0' shape=(None, 7) dtype=float32>, 9: <tf.Tensor 'model/nbeats/subtract_9/sub:0' shape=(None, 7) dtype=float32>, 10: <tf.Tensor 'model/nbeats/subtract_10/sub:0' shape=(None, 7) dtype=float32>, 11: <tf.Tensor 'model/nbeats/subtract_11/sub:0' shape=(None, 7) dtype=float32>, 12: <tf.Tensor 'model/nbeats/subtract_12/sub:0' shape=(None, 7) dtype=float32>, 13: <tf.Tensor 'model/nbeats/subtract_13/sub:0' shape=(None, 7) dtype=float32>, 14: <tf.Tensor 'model/nbeats/subtract_14/sub:0' shape=(None, 7) dtype=float32>, 15: <tf.Tensor 'model/nbeats/subtract_15/sub:0' shape=(None, 7) dtype=float32>, 16: <tf.Tensor 'model/nbeats/subtract_16/sub:0' shape=(None, 7) dtype=float32>, 17: <tf.Tensor 'model/nbeats/subtract_17/sub:0' shape=(None, 7) dtype=float32>, 18: <tf.Tensor 'model/nbeats/subtract_18/sub:0' shape=(None, 7) dtype=float32>, 19: <tf.Tensor 'model/nbeats/subtract_19/sub:0' shape=(None, 7) dtype=float32>, 20: <tf.Tensor 'model/nbeats/subtract_20/sub:0' shape=(None, 7) dtype=float32>, 21: <tf.Tensor 'model/nbeats/subtract_21/sub:0' shape=(None, 7) dtype=float32>, 22: <tf.Tensor 'model/nbeats/subtract_22/sub:0' shape=(None, 7) dtype=float32>, 23: <tf.Tensor 'model/nbeats/subtract_23/sub:0' shape=(None, 7) dtype=float32>, 24: <tf.Tensor 'model/nbeats/subtract_24/sub:0' shape=(None, 7) dtype=float32>, 25: <tf.Tensor 'model/nbeats/subtract_25/sub:0' shape=(None, 7) dtype=float32>, 26: <tf.Tensor 'model/nbeats/subtract_26/sub:0' shape=(None, 7) dtype=float32>, 27: <tf.Tensor 'model/nbeats/subtract_27/sub:0' shape=(None, 7) dtype=float32>, 28: <tf.Tensor 'model/nbeats/subtract_28/sub:0' shape=(None, 7) dtype=float32>, 29: <tf.Tensor 'model/nbeats/subtract_29/sub:0' shape=(None, 7) dtype=float32>}\n",
      "13/13 [==============================] - 1s 22ms/step\n"
     ]
    },
    {
     "data": {
      "text/plain": [
       "array([[-2.40624830e-01],\n",
       "       [-2.35612854e-01],\n",
       "       [-1.17463581e-02],\n",
       "       [ 3.60860437e-01],\n",
       "       [ 5.68383408e+00],\n",
       "       [-6.57068342e-02],\n",
       "       [ 2.21411422e-01],\n",
       "       [-4.58423980e-03],\n",
       "       [-1.63716033e-01],\n",
       "       [-1.56815737e-01],\n",
       "       [ 1.60875708e-01],\n",
       "       [-1.44321740e-01],\n",
       "       [-4.10637021e-01],\n",
       "       [ 1.56795800e-01],\n",
       "       [-4.71797079e-01],\n",
       "       [-1.63006097e-01],\n",
       "       [-1.88767016e-01],\n",
       "       [ 2.16200873e-02],\n",
       "       [ 1.28829017e-01],\n",
       "       [-2.19784212e+00],\n",
       "       [-5.95370047e-02],\n",
       "       [ 3.03920209e-01],\n",
       "       [ 3.75112705e-02],\n",
       "       [-2.59148151e-01],\n",
       "       [ 7.50209332e-01],\n",
       "       [ 1.91025287e-01],\n",
       "       [ 1.55275941e+00],\n",
       "       [ 1.82194680e-01],\n",
       "       [ 9.32653427e-01],\n",
       "       [-1.79966033e-01],\n",
       "       [-9.56501588e-02],\n",
       "       [ 2.92758673e-01],\n",
       "       [-4.56530660e-01],\n",
       "       [-7.02116191e-01],\n",
       "       [-6.24191344e-01],\n",
       "       [ 1.52533829e-01],\n",
       "       [-6.63376212e-01],\n",
       "       [-2.44484976e-01],\n",
       "       [-1.22747779e-01],\n",
       "       [-3.97050045e-02],\n",
       "       [ 1.47813529e-01],\n",
       "       [-6.34598851e-01],\n",
       "       [-3.93904932e-02],\n",
       "       [-6.47788942e-01],\n",
       "       [-3.39470208e-01],\n",
       "       [-2.66927928e-01],\n",
       "       [-1.78093717e-01],\n",
       "       [-4.52239752e-01],\n",
       "       [-5.60557902e-01],\n",
       "       [ 4.03806478e-01],\n",
       "       [-8.10238540e-01],\n",
       "       [-1.73962146e-01],\n",
       "       [ 2.29524206e-02],\n",
       "       [ 8.92680287e-02],\n",
       "       [ 4.87729162e-02],\n",
       "       [-2.34358698e-01],\n",
       "       [ 3.52052301e-01],\n",
       "       [-2.17080057e-01],\n",
       "       [ 2.14827761e-01],\n",
       "       [-1.26778007e-01],\n",
       "       [ 4.43997622e-01],\n",
       "       [-2.21767068e-01],\n",
       "       [-2.94579118e-01],\n",
       "       [ 1.38964087e-01],\n",
       "       [-3.41545790e-01],\n",
       "       [-2.19906449e-01],\n",
       "       [-3.17193955e-01],\n",
       "       [-5.73525608e-01],\n",
       "       [ 4.13313180e-01],\n",
       "       [-7.77016580e-01],\n",
       "       [-1.15646720e-01],\n",
       "       [ 5.09495378e-01],\n",
       "       [-2.46520710e+00],\n",
       "       [ 1.49798580e-02],\n",
       "       [ 3.17700021e-03],\n",
       "       [-8.43880922e-02],\n",
       "       [-7.43409693e-02],\n",
       "       [-2.55969733e-01],\n",
       "       [-5.75255156e-01],\n",
       "       [ 9.08730552e-02],\n",
       "       [-5.03657520e-01],\n",
       "       [-1.18276000e-01],\n",
       "       [-1.79083534e-02],\n",
       "       [-2.75899553e+00],\n",
       "       [-2.44643152e-01],\n",
       "       [-2.20213607e-01],\n",
       "       [-3.47209901e-01],\n",
       "       [-2.05869377e-01],\n",
       "       [-2.46797070e-01],\n",
       "       [-1.22958612e+00],\n",
       "       [-1.13447629e-01],\n",
       "       [-4.28979486e-01],\n",
       "       [-2.16729254e-01],\n",
       "       [-1.72957629e-01],\n",
       "       [ 9.59626138e-02],\n",
       "       [-1.15941681e-01],\n",
       "       [-2.85240382e-01],\n",
       "       [-2.94643566e-02],\n",
       "       [-4.41165902e-02],\n",
       "       [-2.95415670e-01],\n",
       "       [-1.88215837e-01],\n",
       "       [ 9.72971678e-01],\n",
       "       [ 6.22797680e+00],\n",
       "       [-3.21958542e-01],\n",
       "       [ 1.18586445e+00],\n",
       "       [-1.86151952e-01],\n",
       "       [ 4.69557106e-01],\n",
       "       [ 4.14390326e-01],\n",
       "       [ 8.76513779e-01],\n",
       "       [ 5.56094027e+00],\n",
       "       [-3.59445214e-01],\n",
       "       [ 1.01645970e+00],\n",
       "       [-2.35819772e-01],\n",
       "       [ 3.47067535e-01],\n",
       "       [ 3.55146438e-01],\n",
       "       [ 1.05517304e+00],\n",
       "       [ 6.77295113e+00],\n",
       "       [-2.43329331e-01],\n",
       "       [ 1.16428399e+00],\n",
       "       [-1.88616797e-01],\n",
       "       [ 4.55531895e-01],\n",
       "       [ 4.36499506e-01],\n",
       "       [ 2.97798276e-01],\n",
       "       [-3.40690875e+00],\n",
       "       [-1.75187871e-01],\n",
       "       [-2.88063362e-02],\n",
       "       [-8.83852765e-02],\n",
       "       [-1.85907528e-01],\n",
       "       [-6.68697655e-02],\n",
       "       [-2.53397673e-01],\n",
       "       [-7.31455445e-01],\n",
       "       [ 2.56098844e-02],\n",
       "       [-4.06275719e-01],\n",
       "       [-1.80110201e-01],\n",
       "       [-2.25543007e-01],\n",
       "       [ 2.25875139e-01],\n",
       "       [-3.58618945e-01],\n",
       "       [-4.37603146e-01],\n",
       "       [ 2.36632787e-02],\n",
       "       [ 3.86295915e-02],\n",
       "       [-1.93291903e-01],\n",
       "       [-2.44868904e-01],\n",
       "       [ 2.17278600e-01],\n",
       "       [-2.98351550e+00],\n",
       "       [-4.08063903e-02],\n",
       "       [-1.29276976e-01],\n",
       "       [-1.37234524e-01],\n",
       "       [-2.27510765e-01],\n",
       "       [-1.27481550e-01],\n",
       "       [-2.93800175e-01],\n",
       "       [-5.68709612e-01],\n",
       "       [-1.56533092e-01],\n",
       "       [-3.12595934e-01],\n",
       "       [-2.04773858e-01],\n",
       "       [-2.76854903e-01],\n",
       "       [ 3.70208532e-01],\n",
       "       [-5.43933332e-01],\n",
       "       [-2.56483465e-01],\n",
       "       [ 1.79479599e-01],\n",
       "       [ 1.09740242e-01],\n",
       "       [-4.72677350e-01],\n",
       "       [ 2.40119234e-01],\n",
       "       [-3.01348776e-01],\n",
       "       [-3.04105818e-01],\n",
       "       [ 1.38224661e-01],\n",
       "       [-1.31957859e-01],\n",
       "       [-1.52145237e-01],\n",
       "       [ 4.33068983e-02],\n",
       "       [-4.01702702e-01],\n",
       "       [-2.19440460e-01],\n",
       "       [ 1.57124370e-01],\n",
       "       [-3.31724644e-01],\n",
       "       [-2.28579968e-01],\n",
       "       [-1.80779815e-01],\n",
       "       [-4.18640345e-01],\n",
       "       [-6.13583267e-01],\n",
       "       [-1.98857814e-01],\n",
       "       [-4.66363907e-01],\n",
       "       [-1.94485903e-01],\n",
       "       [-2.46151045e-01],\n",
       "       [-4.30470616e-01],\n",
       "       [-7.67636120e-01],\n",
       "       [-2.64994979e-01],\n",
       "       [-4.93820637e-01],\n",
       "       [-1.69420227e-01],\n",
       "       [-2.61783153e-01],\n",
       "       [-1.07336894e-01],\n",
       "       [-3.21956605e-01],\n",
       "       [-1.34699571e+00],\n",
       "       [-2.20937267e-01],\n",
       "       [-2.68413663e-01],\n",
       "       [-3.09018567e-02],\n",
       "       [-2.41402835e-01],\n",
       "       [-1.17683828e-01],\n",
       "       [ 1.20037809e-01],\n",
       "       [-3.04686308e-01],\n",
       "       [-2.79976577e-01],\n",
       "       [ 1.60873219e-01],\n",
       "       [-5.59529066e-01],\n",
       "       [-1.77492037e-01],\n",
       "       [-7.43077025e-02],\n",
       "       [ 2.53302634e-01],\n",
       "       [-3.32246155e-01],\n",
       "       [-3.03312927e-01],\n",
       "       [ 1.26200587e-01],\n",
       "       [-3.97443295e-01],\n",
       "       [-2.55822241e-01],\n",
       "       [-1.78694844e-01],\n",
       "       [-3.24097537e-02],\n",
       "       [-3.38476837e-01],\n",
       "       [-6.94708169e-01],\n",
       "       [-1.70565084e-01],\n",
       "       [-4.02951121e-01],\n",
       "       [-2.67345309e-01],\n",
       "       [-2.21144259e-01],\n",
       "       [-1.41204178e-01],\n",
       "       [-2.26341918e-01],\n",
       "       [-1.52224314e+00],\n",
       "       [-3.61806184e-01],\n",
       "       [-3.22573423e-01],\n",
       "       [-2.43118837e-01],\n",
       "       [-2.61878520e-01],\n",
       "       [-5.34412265e-01],\n",
       "       [-4.93030369e-01],\n",
       "       [-4.72760141e-01],\n",
       "       [ 1.45691261e-01],\n",
       "       [-7.89205372e-01],\n",
       "       [-1.01894297e-01],\n",
       "       [-2.71688759e-01],\n",
       "       [ 6.61699712e-01],\n",
       "       [ 3.59225321e+00],\n",
       "       [ 2.36968040e-01],\n",
       "       [ 4.75367904e-01],\n",
       "       [-3.72967005e-01],\n",
       "       [ 1.61073711e-02],\n",
       "       [-4.56848860e-01],\n",
       "       [-3.62164050e-01],\n",
       "       [-6.40132368e-01],\n",
       "       [ 2.08033934e-01],\n",
       "       [-5.54024935e-01],\n",
       "       [-1.41644612e-01],\n",
       "       [-1.04655139e-01],\n",
       "       [ 8.37169886e-02],\n",
       "       [-3.07645774e+00],\n",
       "       [-2.32195314e-02],\n",
       "       [-2.35208109e-01],\n",
       "       [ 3.48394781e-01],\n",
       "       [-1.81542456e-01],\n",
       "       [ 6.92718983e-01],\n",
       "       [ 1.32760024e+00],\n",
       "       [-1.95427924e-01],\n",
       "       [ 3.30467105e-01],\n",
       "       [-2.48324797e-01],\n",
       "       [-1.96089327e-01],\n",
       "       [-9.44273248e-02],\n",
       "       [-3.92312616e-01],\n",
       "       [-4.61855441e-01],\n",
       "       [ 4.50693369e-01],\n",
       "       [-2.28267610e-01],\n",
       "       [-3.51870477e-01],\n",
       "       [ 5.99467635e-01],\n",
       "       [-3.89489919e-01],\n",
       "       [-1.33315742e+00],\n",
       "       [ 2.73092866e-01],\n",
       "       [-2.15740338e-01],\n",
       "       [-3.12805295e-01],\n",
       "       [ 4.19915438e-01],\n",
       "       [ 7.98067525e-02],\n",
       "       [-2.48307443e+00],\n",
       "       [ 3.36980492e-01],\n",
       "       [ 1.53650254e-01],\n",
       "       [-1.77209094e-01],\n",
       "       [-2.23101005e-01],\n",
       "       [ 6.64274395e-01],\n",
       "       [ 4.90801668e+00],\n",
       "       [-4.51669581e-02],\n",
       "       [ 4.37521666e-01],\n",
       "       [-1.28553241e-01],\n",
       "       [-3.10336292e-01],\n",
       "       [ 6.66198373e-01],\n",
       "       [ 5.80102921e+00],\n",
       "       [-2.14729398e-01],\n",
       "       [ 3.02622080e-01],\n",
       "       [-2.27747262e-01],\n",
       "       [-2.33139068e-01],\n",
       "       [ 2.67377228e-01],\n",
       "       [-4.28056121e-01],\n",
       "       [-4.13117141e-01],\n",
       "       [ 8.18412080e-02],\n",
       "       [-3.36835653e-01],\n",
       "       [-3.63689929e-01],\n",
       "       [-1.42652929e-01],\n",
       "       [-3.50957870e-01],\n",
       "       [-9.19927478e-01],\n",
       "       [ 3.44478525e-04],\n",
       "       [-4.28673655e-01],\n",
       "       [-2.01815486e-01],\n",
       "       [-2.51412362e-01],\n",
       "       [ 2.05705121e-01],\n",
       "       [-2.15249196e-01],\n",
       "       [-3.98988515e-01],\n",
       "       [ 1.14755385e-01],\n",
       "       [-4.28603739e-01],\n",
       "       [-2.24683076e-01],\n",
       "       [-2.38578483e-01],\n",
       "       [ 2.59460449e-01],\n",
       "       [-3.01871628e-01],\n",
       "       [-4.84231234e-01],\n",
       "       [ 1.03519499e-01],\n",
       "       [-4.41052318e-01],\n",
       "       [-2.23637849e-01],\n",
       "       [-1.76526800e-01],\n",
       "       [ 1.19113728e-01],\n",
       "       [-1.84642494e-01],\n",
       "       [-2.95730323e-01],\n",
       "       [ 2.18392208e-01],\n",
       "       [-4.80328798e-01],\n",
       "       [-2.53112584e-01],\n",
       "       [-6.13504611e-02],\n",
       "       [ 3.71616215e-01],\n",
       "       [ 2.91085958e-01],\n",
       "       [-1.86532155e-01],\n",
       "       [ 4.29697514e-01],\n",
       "       [-3.52187604e-01],\n",
       "       [-6.51979983e-01],\n",
       "       [-4.36348468e-02],\n",
       "       [-1.00382954e-01],\n",
       "       [-2.83931851e+00],\n",
       "       [-1.56836197e-01],\n",
       "       [-2.97451168e-02],\n",
       "       [-4.91984859e-02],\n",
       "       [-1.02052353e-01],\n",
       "       [ 3.26495260e-01],\n",
       "       [-2.47768551e-01],\n",
       "       [-5.08507609e-01],\n",
       "       [ 8.42424259e-02],\n",
       "       [-3.59008789e-01],\n",
       "       [-1.85822368e-01],\n",
       "       [ 5.78462146e-04],\n",
       "       [ 6.95463598e-01],\n",
       "       [-1.83737636e+00],\n",
       "       [-3.49860460e-01],\n",
       "       [ 1.50917292e-01],\n",
       "       [-2.80368447e-01],\n",
       "       [-2.92233020e-01],\n",
       "       [ 7.81806633e-02],\n",
       "       [-3.71705025e-01],\n",
       "       [-3.42803389e-01],\n",
       "       [ 3.03504765e-01],\n",
       "       [-3.26013207e-01],\n",
       "       [-1.01908430e-01],\n",
       "       [-1.38321593e-01],\n",
       "       [-4.23201621e-01],\n",
       "       [-9.24968719e-01],\n",
       "       [-2.30062772e-02],\n",
       "       [-5.24877071e-01],\n",
       "       [-1.23701908e-01],\n",
       "       [-8.25478733e-02],\n",
       "       [ 1.95711285e-01],\n",
       "       [-3.83953184e-01],\n",
       "       [-3.09144080e-01],\n",
       "       [-1.18697900e-02],\n",
       "       [-3.70702833e-01],\n",
       "       [-6.75756335e-02],\n",
       "       [-1.58948138e-01],\n",
       "       [ 2.55330235e-01],\n",
       "       [ 2.08829403e+00],\n",
       "       [-4.38385546e-01],\n",
       "       [ 2.26205379e-01],\n",
       "       [-1.23136848e-01],\n",
       "       [-1.18761100e-01],\n",
       "       [-6.30194992e-02],\n",
       "       [-3.08842510e-01],\n",
       "       [-1.27189362e+00],\n",
       "       [ 6.87335283e-02],\n",
       "       [-2.26854384e-01],\n",
       "       [-1.14325657e-01],\n",
       "       [-5.78024536e-02],\n",
       "       [-4.92842309e-02],\n",
       "       [-4.47044939e-01],\n",
       "       [-6.13901138e-01],\n",
       "       [-1.30072176e-01],\n",
       "       [-5.13386548e-01],\n",
       "       [-2.28720874e-01],\n",
       "       [-4.18413840e-02],\n",
       "       [ 1.61267385e-01],\n",
       "       [-3.80924672e-01],\n",
       "       [-4.75608468e-01],\n",
       "       [ 1.88305285e-02],\n",
       "       [-2.05701068e-01],\n",
       "       [-2.02663243e-01],\n",
       "       [-1.19506709e-01],\n",
       "       [ 4.97259587e-01],\n",
       "       [ 5.99834919e+00],\n",
       "       [-2.50375181e-01],\n",
       "       [ 2.94540673e-01],\n",
       "       [-1.05766103e-01],\n",
       "       [ 2.73519456e-01],\n",
       "       [ 7.99821466e-02],\n",
       "       [-3.96434277e-01],\n",
       "       [ 3.53763580e-01],\n",
       "       [ 1.97493695e-02],\n",
       "       [ 2.80072391e-01],\n",
       "       [ 3.02089781e-01],\n",
       "       [-1.60281390e-01],\n",
       "       [ 1.37552604e-01],\n",
       "       [-4.29106325e-01],\n",
       "       [-5.92099190e-01],\n",
       "       [-1.92691594e-01],\n",
       "       [-2.51803905e-01],\n",
       "       [-3.13795120e-01],\n",
       "       [-3.02009247e-02],\n",
       "       [ 1.95158392e-01]], dtype=float32)"
      ]
     },
     "execution_count": 14,
     "metadata": {},
     "output_type": "execute_result"
    }
   ],
   "source": [
    "nBeats.predict(X, callbacks=[CustomCallback()])"
   ]
  },
  {
   "cell_type": "code",
   "execution_count": null,
   "metadata": {},
   "outputs": [],
   "source": [
    "from tensorflow import keras\n",
    "import tensorflow.keras.backend as K"
   ]
  },
  {
   "cell_type": "code",
   "execution_count": null,
   "metadata": {},
   "outputs": [],
   "source": [
    "X"
   ]
  },
  {
   "cell_type": "code",
   "execution_count": null,
   "metadata": {},
   "outputs": [],
   "source": [
    "resid = K.reverse(X, axes=0)\n",
    "resid"
   ]
  },
  {
   "cell_type": "code",
   "execution_count": null,
   "metadata": {},
   "outputs": [],
   "source": [
    "teste = keras.layers.Subtract()([resid, X])"
   ]
  },
  {
   "cell_type": "code",
   "execution_count": null,
   "metadata": {},
   "outputs": [],
   "source": [
    "teste"
   ]
  },
  {
   "cell_type": "code",
   "execution_count": null,
   "metadata": {},
   "outputs": [],
   "source": [
    "timeInputLayers = []\n",
    "nbeatsLayers = []\n",
    "for i in range(inputTest.shape[1]):\n",
    "    time_input = keras.layers.Input(shape = (7, ))\n",
    "    nbeats = NBeatsModel(model_type = 'generic', lookback = 7, horizon = 1).build_layer()\n",
    "    timeInputLayers.append(time_input)\n",
    "    nbeatsLayers.append(nbeats.model_layer(time_input))"
   ]
  },
  {
   "cell_type": "code",
   "execution_count": null,
   "metadata": {},
   "outputs": [],
   "source": [
    "concat = keras.layers.Concatenate()(nbeatsLayers)\n",
    "output = keras.layers.Dense(3, activation=\"softmax\")(concat)\n",
    "model = keras.Model(inputs = timeInputLayers, outputs = output)"
   ]
  },
  {
   "cell_type": "code",
   "execution_count": null,
   "metadata": {},
   "outputs": [],
   "source": [
    "model.compile(loss = 'sparse_categorical_crossentropy')"
   ]
  },
  {
   "cell_type": "code",
   "execution_count": null,
   "metadata": {},
   "outputs": [],
   "source": [
    "x = [ convert_to_tensor(inputTest[:, i]) for i in range(inputTest.shape[1]) ]\n",
    "y = [\n",
    "    np.array(\n",
    "        [\n",
    "            np.int64(randint(0, 2))\n",
    "            for _ in range(inputTest.shape[0])\n",
    "        ]\n",
    "    )\n",
    "    for _ in range(inputTest.shape[1])\n",
    "]"
   ]
  },
  {
   "cell_type": "code",
   "execution_count": null,
   "metadata": {},
   "outputs": [],
   "source": [
    "x = stack(x)\n",
    "y = convert_to_tensor(stack(y))"
   ]
  },
  {
   "cell_type": "code",
   "execution_count": null,
   "metadata": {},
   "outputs": [],
   "source": [
    "model.fit(x, y, verbose = True)"
   ]
  },
  {
   "cell_type": "code",
   "execution_count": null,
   "metadata": {},
   "outputs": [],
   "source": []
  }
 ],
 "metadata": {
  "kernelspec": {
   "display_name": "Python 3.9.7 ('mostress-dev2-env': venv)",
   "language": "python",
   "name": "python3"
  },
  "language_info": {
   "codemirror_mode": {
    "name": "ipython",
    "version": 3
   },
   "file_extension": ".py",
   "mimetype": "text/x-python",
   "name": "python",
   "nbconvert_exporter": "python",
   "pygments_lexer": "ipython3",
   "version": "3.9.7"
  },
  "orig_nbformat": 4,
  "vscode": {
   "interpreter": {
    "hash": "143167f09ea17dc788a92cbc3c59d17d73128ff92566801f762cb232b6bed323"
   }
  }
 },
 "nbformat": 4,
 "nbformat_minor": 2
}
