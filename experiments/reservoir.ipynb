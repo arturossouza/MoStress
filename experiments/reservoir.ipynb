{
 "cells": [
  {
   "cell_type": "markdown",
   "metadata": {},
   "source": [
    "# Transduction (sequence-to-sequence model)"
   ]
  },
  {
   "cell_type": "code",
   "execution_count": null,
   "metadata": {},
   "outputs": [],
   "source": [
    "from collections import defaultdict\n",
    "import matplotlib.pyplot as plt\n",
    "import numpy as np\n",
    "\n",
    "from reservoirpy.datasets import japanese_vowels\n",
    "from reservoirpy import set_seed, verbosity\n",
    "from reservoirpy.observables import nrmse, rsquare\n",
    "\n",
    "from sklearn.metrics import accuracy_score\n",
    "\n",
    "set_seed(42)\n",
    "verbosity(0)"
   ]
  },
  {
   "cell_type": "code",
   "execution_count": null,
   "metadata": {},
   "outputs": [],
   "source": [
    "X_train, Y_train, X_test, Y_test = japanese_vowels()"
   ]
  },
  {
   "cell_type": "code",
   "execution_count": null,
   "metadata": {},
   "outputs": [],
   "source": [
    "len(X_train), X_train[0], X_train[0].shape, X_train[0][0], X_train[0][0].shape, X_train[0][0][0], type(X_train[0][0][0])"
   ]
  },
  {
   "cell_type": "code",
   "execution_count": null,
   "metadata": {},
   "outputs": [],
   "source": [
    "len(X_train), X_train[0].shape, X_train[1].shape"
   ]
  },
  {
   "cell_type": "code",
   "execution_count": null,
   "metadata": {},
   "outputs": [],
   "source": [
    "len(X_train), X_train[0].T.shape, X_train[1].T.shape"
   ]
  },
  {
   "cell_type": "code",
   "execution_count": null,
   "metadata": {},
   "outputs": [],
   "source": [
    "len(Y_train), Y_train[0].shape, Y_train[1].shape"
   ]
  },
  {
   "cell_type": "code",
   "execution_count": null,
   "metadata": {},
   "outputs": [],
   "source": [
    "plt.imshow(X_train[0].T)\n",
    "plt.title(f\"A sample vowel of speaker {np.argmax(Y_train[0]) +1}\")\n",
    "plt.xlabel(\"Timesteps\")\n",
    "plt.ylabel(\"LPC (cepstra)\")\n",
    "plt.show()\n",
    "\n",
    "plt.imshow(X_train[50].T)\n",
    "plt.title(f\"A sample vowel of speaker {np.argmax(Y_train[50]) +1}\")\n",
    "plt.xlabel(\"Timesteps\")\n",
    "plt.ylabel(\"LPC (cepstra)\")\n",
    "plt.show()"
   ]
  },
  {
   "cell_type": "code",
   "execution_count": null,
   "metadata": {},
   "outputs": [],
   "source": [
    "sample_per_speaker = 30\n",
    "n_speaker = 9\n",
    "X_train_per_speaker = []\n",
    "\n",
    "for i in range(n_speaker):\n",
    "    X_speaker = X_train[i*sample_per_speaker: (i+1)*sample_per_speaker]\n",
    "    X_train_per_speaker.append(np.concatenate(X_speaker).flatten())\n",
    "\n",
    "plt.boxplot(X_train_per_speaker)\n",
    "plt.xlabel(\"Speaker\")\n",
    "plt.ylabel(\"LPC (cepstra)\")\n",
    "plt.show()"
   ]
  },
  {
   "cell_type": "code",
   "execution_count": null,
   "metadata": {},
   "outputs": [],
   "source": [
    "# repeat_target ensure that we obtain one label per timestep, and not one label per utterance.\n",
    "X_train, Y_train, X_test, Y_test = japanese_vowels(repeat_targets=True)"
   ]
  },
  {
   "cell_type": "code",
   "execution_count": null,
   "metadata": {},
   "outputs": [],
   "source": [
    "len(X_train), X_train[0], X_train[0].shape, X_train[0][0], X_train[0][0].shape, X_train[0][0][0], type(X_train[0][0][0])"
   ]
  },
  {
   "cell_type": "code",
   "execution_count": null,
   "metadata": {},
   "outputs": [],
   "source": [
    "len(Y_train), Y_train[0], Y_train[0].shape, Y_train[0][0], Y_train[0][0].shape, Y_train[0][0][0], type(Y_train[0][0][0])"
   ]
  },
  {
   "cell_type": "code",
   "execution_count": null,
   "metadata": {},
   "outputs": [],
   "source": [
    "from reservoirpy.nodes import Reservoir, Ridge, Input"
   ]
  },
  {
   "cell_type": "code",
   "execution_count": null,
   "metadata": {},
   "outputs": [],
   "source": [
    "source = Input()\n",
    "reservoir = Reservoir(500, sr=0.9, lr=0.1)\n",
    "readout = Ridge(ridge=1e-6)\n",
    "\n",
    "model = [source >> reservoir, source] >> readout"
   ]
  },
  {
   "cell_type": "code",
   "execution_count": null,
   "metadata": {},
   "outputs": [],
   "source": [
    "Y_pred = model.fit(X_train, Y_train, stateful=False, warmup=2).run(X_test, stateful=False)"
   ]
  },
  {
   "cell_type": "code",
   "execution_count": null,
   "metadata": {},
   "outputs": [],
   "source": [
    "Y_pred_class = [np.argmax(y_p, axis=1) for y_p in Y_pred]\n",
    "Y_test_class = [np.argmax(y_t, axis=1) for y_t in Y_test]\n",
    "\n",
    "score = accuracy_score(np.concatenate(Y_test_class, axis=0), np.concatenate(Y_pred_class, axis=0))\n",
    "\n",
    "print(\"Accuracy: \", f\"{score * 100:.3f} %\")"
   ]
  },
  {
   "cell_type": "markdown",
   "metadata": {},
   "source": [
    "# Classification (sequence-to-vector model)"
   ]
  },
  {
   "cell_type": "code",
   "execution_count": null,
   "metadata": {},
   "outputs": [],
   "source": [
    "X_train, Y_train, X_test, Y_test = japanese_vowels()"
   ]
  },
  {
   "cell_type": "code",
   "execution_count": null,
   "metadata": {},
   "outputs": [],
   "source": [
    "from reservoirpy.nodes import Reservoir, Ridge, Input"
   ]
  },
  {
   "cell_type": "code",
   "execution_count": null,
   "metadata": {},
   "outputs": [],
   "source": [
    "source = Input()\n",
    "reservoir = Reservoir(500, sr=0.9, lr=0.1)\n",
    "readout = Ridge(ridge=1e-6)\n",
    "\n",
    "model = source >> reservoir >> readout"
   ]
  },
  {
   "cell_type": "code",
   "execution_count": null,
   "metadata": {},
   "outputs": [],
   "source": [
    "states_train = []\n",
    "for x in X_train:\n",
    "    states = reservoir.run(x, reset=True)\n",
    "    states_train.append(states[-1, np.newaxis])"
   ]
  },
  {
   "cell_type": "code",
   "execution_count": null,
   "metadata": {},
   "outputs": [],
   "source": [
    "readout.fit(states_train, Y_train)"
   ]
  },
  {
   "cell_type": "code",
   "execution_count": null,
   "metadata": {},
   "outputs": [],
   "source": [
    "Y_pred = []\n",
    "for x in X_test:\n",
    "    states = reservoir.run(x, reset=True)\n",
    "    y = readout.run(states[-1, np.newaxis])\n",
    "    Y_pred.append(y)"
   ]
  },
  {
   "cell_type": "code",
   "execution_count": null,
   "metadata": {},
   "outputs": [],
   "source": [
    "Y_pred_class = [np.argmax(y_p) for y_p in Y_pred]\n",
    "Y_test_class = [np.argmax(y_t) for y_t in Y_test]\n",
    "\n",
    "score = accuracy_score(Y_test_class, Y_pred_class)\n",
    "\n",
    "print(\"Accuracy: \", f\"{score * 100:.3f} %\")"
   ]
  }
 ],
 "metadata": {
  "kernelspec": {
   "display_name": "Python 3.9.7 ('mostress-dev2-env': venv)",
   "language": "python",
   "name": "python3"
  },
  "language_info": {
   "codemirror_mode": {
    "name": "ipython",
    "version": 3
   },
   "file_extension": ".py",
   "mimetype": "text/x-python",
   "name": "python",
   "nbconvert_exporter": "python",
   "pygments_lexer": "ipython3",
   "version": "3.9.7"
  },
  "orig_nbformat": 4,
  "vscode": {
   "interpreter": {
    "hash": "143167f09ea17dc788a92cbc3c59d17d73128ff92566801f762cb232b6bed323"
   }
  }
 },
 "nbformat": 4,
 "nbformat_minor": 2
}
