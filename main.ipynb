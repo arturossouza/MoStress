{
 "cells": [
  {
   "cell_type": "code",
   "execution_count": 1,
   "metadata": {},
   "outputs": [],
   "source": [
    "import json\n",
    "import pandas as pd\n",
    "import numpy as np\n",
    "from datasets.DatasetFactory import DatasetFactory\n",
    "from moStress.preprocessing.MoStressPreprocessing import MoStressPreprocessing\n",
    "from moStress.neuralNetwork.MoStressNeuralNetwork import MoStressNeuralNetwork"
   ]
  },
  {
   "cell_type": "code",
   "execution_count": 2,
   "metadata": {},
   "outputs": [],
   "source": [
    "wesadDataPath = \"data/WESAD\"\n",
    "datasetJsonFilePath = \"configs/wesadDatasetOptions.json\"\n",
    "moStressJsonFilePath = \"configs/moStressConfigs.json\""
   ]
  },
  {
   "cell_type": "code",
   "execution_count": 3,
   "metadata": {},
   "outputs": [],
   "source": [
    "with open(datasetJsonFilePath, 'r') as j:\n",
    "        wesadOptions = json.loads(j.read())\n",
    "\n",
    "with open(moStressJsonFilePath, 'r') as j:\n",
    "        moStressConfigs = json.loads(j.read())"
   ]
  },
  {
   "cell_type": "code",
   "execution_count": 4,
   "metadata": {},
   "outputs": [],
   "source": [
    "wesadChestPhysioData = DatasetFactory().make( \"Wesad Physio Chest Data\", wesadDataPath, wesadOptions[\"Chest Physio Data\"] )"
   ]
  },
  {
   "cell_type": "code",
   "execution_count": 5,
   "metadata": {},
   "outputs": [],
   "source": [
    "moStressPreprocessing = MoStressPreprocessing(moStressConfigs, wesadChestPhysioData.data)"
   ]
  },
  {
   "cell_type": "code",
   "execution_count": 6,
   "metadata": {},
   "outputs": [
    {
     "name": "stdout",
     "output_type": "stream",
     "text": [
      "Starting MoStress data preprocessing.\n",
      "\n",
      "Data Normalization in progress...\n",
      "\n",
      "Normalization finished.\n",
      "\n",
      "Windows Labelling in progress...\n",
      "\n",
      "Windows Labelling finished.\n",
      "\n",
      "Weights Calculation in progress...\n",
      "\n",
      "Weights Calculation finished.\n",
      "\n",
      "MoStress data preprocessing finished.\n",
      "\n"
     ]
    }
   ],
   "source": [
    "moStressPreprocessing.execute()"
   ]
  },
  {
   "cell_type": "code",
   "execution_count": 7,
   "metadata": {},
   "outputs": [],
   "source": [
    "dataset = {\n",
    "    \"features\": moStressPreprocessing.features,\n",
    "    \"targets\": moStressPreprocessing.targets,\n",
    "    \"weights\": moStressPreprocessing.weights\n",
    "}"
   ]
  },
  {
   "cell_type": "code",
   "execution_count": 8,
   "metadata": {},
   "outputs": [],
   "source": [
    "# If you want to run the preprocessing only once, uncommnet this cell\n",
    "\n",
    "# from utils.preprocessingCheckpoint import setPreprocessingCheckpoint, getPreprocessingCheckpoint\n",
    "\n",
    "# setPreprocessingCheckpoint(moStressPreprocessing)\n",
    "# dataset = getPreprocessingCheckpoint()\n"
   ]
  },
  {
   "cell_type": "code",
   "execution_count": 9,
   "metadata": {},
   "outputs": [
    {
     "name": "stderr",
     "output_type": "stream",
     "text": [
      "2022-08-29 11:25:22.208241: I tensorflow/core/platform/cpu_feature_guard.cc:193] This TensorFlow binary is optimized with oneAPI Deep Neural Network Library (oneDNN) to use the following CPU instructions in performance-critical operations:  AVX2 FMA\n",
      "To enable them in other operations, rebuild TensorFlow with the appropriate compiler flags.\n"
     ]
    }
   ],
   "source": [
    "moStressNeuralNetwork = MoStressNeuralNetwork(moStressConfigs, dataset)"
   ]
  },
  {
   "cell_type": "code",
   "execution_count": 10,
   "metadata": {},
   "outputs": [
    {
     "name": "stdout",
     "output_type": "stream",
     "text": [
      "Starting MoStress with model architecture: REGULARIZER-LSTM and optimizer: rmsprop.\n",
      "\n",
      "\n",
      "Creating model: REGULARIZER-LSTM\n",
      "\n",
      "Model: \"sequential\"\n",
      "_________________________________________________________________\n",
      "Layer (type)                 Output Shape              Param #   \n",
      "=================================================================\n",
      "lstm (LSTM)                  (None, 420, 128)          68608     \n",
      "_________________________________________________________________\n",
      "leaky_re_lu (LeakyReLU)      (None, 420, 128)          0         \n",
      "_________________________________________________________________\n",
      "gaussian_noise (GaussianNois (None, 420, 128)          0         \n",
      "_________________________________________________________________\n",
      "dropout (Dropout)            (None, 420, 128)          0         \n",
      "_________________________________________________________________\n",
      "flatten (Flatten)            (None, 53760)             0         \n",
      "_________________________________________________________________\n",
      "dense (Dense)                (None, 3)                 161283    \n",
      "_________________________________________________________________\n",
      "activation (Activation)      (None, 3)                 0         \n",
      "=================================================================\n",
      "Total params: 229,891\n",
      "Trainable params: 229,891\n",
      "Non-trainable params: 0\n",
      "_________________________________________________________________\n",
      "\n",
      "Model Created\n",
      "\n",
      "\n",
      "Compiling model with optmizer: rmsprop\n",
      "\n",
      "\n",
      "Model Compiled\n",
      "\n",
      "\n",
      "Fitting Model\n",
      "\n",
      "Epoch 1/100\n"
     ]
    },
    {
     "name": "stderr",
     "output_type": "stream",
     "text": [
      "2022-08-29 11:25:34.286185: I tensorflow/core/profiler/lib/profiler_session.cc:99] Profiler session initializing.\n",
      "2022-08-29 11:25:34.286200: I tensorflow/core/profiler/lib/profiler_session.cc:114] Profiler session started.\n",
      "2022-08-29 11:25:34.286309: I tensorflow/core/profiler/lib/profiler_session.cc:126] Profiler session tear down.\n"
     ]
    },
    {
     "name": "stdout",
     "output_type": "stream",
     "text": [
      "  1/551 [..............................] - ETA: 26:07 - loss: 1.0067 - sparse_categorical_accuracy: 0.3438"
     ]
    },
    {
     "name": "stderr",
     "output_type": "stream",
     "text": [
      "2022-08-29 11:25:37.278998: I tensorflow/core/profiler/lib/profiler_session.cc:99] Profiler session initializing.\n",
      "2022-08-29 11:25:37.279016: I tensorflow/core/profiler/lib/profiler_session.cc:114] Profiler session started.\n"
     ]
    },
    {
     "name": "stdout",
     "output_type": "stream",
     "text": [
      "  2/551 [..............................] - ETA: 4:44 - loss: 1.0908 - sparse_categorical_accuracy: 0.5000 "
     ]
    },
    {
     "name": "stderr",
     "output_type": "stream",
     "text": [
      "2022-08-29 11:25:37.722782: I tensorflow/core/profiler/lib/profiler_session.cc:66] Profiler session collecting data.\n",
      "2022-08-29 11:25:37.973880: I tensorflow/core/profiler/lib/profiler_session.cc:126] Profiler session tear down.\n",
      "2022-08-29 11:25:38.221501: I tensorflow/core/profiler/rpc/client/save_profile.cc:136] Creating directory: logs/REGULARIZER-LSTM/rmsprop/fit/20220829-112534/train/plugins/profile/2022_08_29_11_25_37\n",
      "\n",
      "2022-08-29 11:25:38.413912: I tensorflow/core/profiler/rpc/client/save_profile.cc:142] Dumped gzipped tool data for trace.json.gz to logs/REGULARIZER-LSTM/rmsprop/fit/20220829-112534/train/plugins/profile/2022_08_29_11_25_37/C02D602YMD6Q.trace.json.gz\n",
      "2022-08-29 11:25:38.546331: I tensorflow/core/profiler/rpc/client/save_profile.cc:136] Creating directory: logs/REGULARIZER-LSTM/rmsprop/fit/20220829-112534/train/plugins/profile/2022_08_29_11_25_37\n",
      "\n",
      "2022-08-29 11:25:38.546654: I tensorflow/core/profiler/rpc/client/save_profile.cc:142] Dumped gzipped tool data for memory_profile.json.gz to logs/REGULARIZER-LSTM/rmsprop/fit/20220829-112534/train/plugins/profile/2022_08_29_11_25_37/C02D602YMD6Q.memory_profile.json.gz\n",
      "2022-08-29 11:25:38.557440: I tensorflow/core/profiler/rpc/client/capture_profile.cc:251] Creating directory: logs/REGULARIZER-LSTM/rmsprop/fit/20220829-112534/train/plugins/profile/2022_08_29_11_25_37\n",
      "Dumped tool data for xplane.pb to logs/REGULARIZER-LSTM/rmsprop/fit/20220829-112534/train/plugins/profile/2022_08_29_11_25_37/C02D602YMD6Q.xplane.pb\n",
      "Dumped tool data for overview_page.pb to logs/REGULARIZER-LSTM/rmsprop/fit/20220829-112534/train/plugins/profile/2022_08_29_11_25_37/C02D602YMD6Q.overview_page.pb\n",
      "Dumped tool data for input_pipeline.pb to logs/REGULARIZER-LSTM/rmsprop/fit/20220829-112534/train/plugins/profile/2022_08_29_11_25_37/C02D602YMD6Q.input_pipeline.pb\n",
      "Dumped tool data for tensorflow_stats.pb to logs/REGULARIZER-LSTM/rmsprop/fit/20220829-112534/train/plugins/profile/2022_08_29_11_25_37/C02D602YMD6Q.tensorflow_stats.pb\n",
      "Dumped tool data for kernel_stats.pb to logs/REGULARIZER-LSTM/rmsprop/fit/20220829-112534/train/plugins/profile/2022_08_29_11_25_37/C02D602YMD6Q.kernel_stats.pb\n",
      "\n"
     ]
    },
    {
     "name": "stdout",
     "output_type": "stream",
     "text": [
      "551/551 [==============================] - 210s 376ms/step - loss: 0.9914 - sparse_categorical_accuracy: 0.7261 - val_loss: 0.2311 - val_sparse_categorical_accuracy: 0.9545\n",
      "Epoch 2/100\n",
      "551/551 [==============================] - 222s 403ms/step - loss: 0.2441 - sparse_categorical_accuracy: 0.9534 - val_loss: 0.0050 - val_sparse_categorical_accuracy: 0.9989\n",
      "Epoch 3/100\n",
      "551/551 [==============================] - 211s 383ms/step - loss: 0.2022 - sparse_categorical_accuracy: 0.9766 - val_loss: 0.1013 - val_sparse_categorical_accuracy: 0.9952\n",
      "Epoch 4/100\n",
      "551/551 [==============================] - 228s 415ms/step - loss: 0.1161 - sparse_categorical_accuracy: 0.9886 - val_loss: 0.0196 - val_sparse_categorical_accuracy: 0.9989\n",
      "Epoch 5/100\n",
      "551/551 [==============================] - 217s 393ms/step - loss: 0.1010 - sparse_categorical_accuracy: 0.9899 - val_loss: 0.0027 - val_sparse_categorical_accuracy: 1.0000\n",
      "Epoch 6/100\n",
      "551/551 [==============================] - 210s 382ms/step - loss: 0.0699 - sparse_categorical_accuracy: 0.9922 - val_loss: 0.0104 - val_sparse_categorical_accuracy: 0.9977\n",
      "Epoch 7/100\n",
      "551/551 [==============================] - 205s 373ms/step - loss: 0.0558 - sparse_categorical_accuracy: 0.9938 - val_loss: 0.0028 - val_sparse_categorical_accuracy: 1.0000\n",
      "Epoch 8/100\n",
      "551/551 [==============================] - 187s 339ms/step - loss: 0.0461 - sparse_categorical_accuracy: 0.9953 - val_loss: 0.0028 - val_sparse_categorical_accuracy: 1.0000\n",
      "Epoch 9/100\n",
      "551/551 [==============================] - 187s 339ms/step - loss: 0.0592 - sparse_categorical_accuracy: 0.9951 - val_loss: 0.0572 - val_sparse_categorical_accuracy: 0.9973\n",
      "Epoch 10/100\n",
      "551/551 [==============================] - 205s 372ms/step - loss: 0.0418 - sparse_categorical_accuracy: 0.9961 - val_loss: 0.0214 - val_sparse_categorical_accuracy: 0.9975\n",
      "Epoch 11/100\n",
      "551/551 [==============================] - 204s 370ms/step - loss: 0.0357 - sparse_categorical_accuracy: 0.9971 - val_loss: 0.0039 - val_sparse_categorical_accuracy: 0.9995\n",
      "Epoch 12/100\n",
      "551/551 [==============================] - 180s 327ms/step - loss: 0.0323 - sparse_categorical_accuracy: 0.9967 - val_loss: 0.0038 - val_sparse_categorical_accuracy: 1.0000\n",
      "Epoch 13/100\n",
      "551/551 [==============================] - 190s 345ms/step - loss: 0.0495 - sparse_categorical_accuracy: 0.9968 - val_loss: 0.0026 - val_sparse_categorical_accuracy: 1.0000\n",
      "Epoch 14/100\n",
      "551/551 [==============================] - 191s 346ms/step - loss: 0.0247 - sparse_categorical_accuracy: 0.9973 - val_loss: 0.0039 - val_sparse_categorical_accuracy: 0.9995\n",
      "Epoch 15/100\n",
      "551/551 [==============================] - 194s 352ms/step - loss: 0.2309 - sparse_categorical_accuracy: 0.9868 - val_loss: 0.0028 - val_sparse_categorical_accuracy: 1.0000\n",
      "Epoch 16/100\n",
      "551/551 [==============================] - 193s 350ms/step - loss: 0.0464 - sparse_categorical_accuracy: 0.9957 - val_loss: 0.0160 - val_sparse_categorical_accuracy: 0.9985\n",
      "Epoch 17/100\n",
      "551/551 [==============================] - 193s 350ms/step - loss: 0.0465 - sparse_categorical_accuracy: 0.9968 - val_loss: 0.0041 - val_sparse_categorical_accuracy: 0.9997\n",
      "Epoch 18/100\n",
      "551/551 [==============================] - 192s 348ms/step - loss: 0.0411 - sparse_categorical_accuracy: 0.9967 - val_loss: 0.1242 - val_sparse_categorical_accuracy: 0.9920\n",
      "Epoch 19/100\n",
      "551/551 [==============================] - 191s 347ms/step - loss: 0.0340 - sparse_categorical_accuracy: 0.9972 - val_loss: 0.0029 - val_sparse_categorical_accuracy: 1.0000\n",
      "Epoch 20/100\n",
      "551/551 [==============================] - 193s 350ms/step - loss: 0.0422 - sparse_categorical_accuracy: 0.9965 - val_loss: 0.0032 - val_sparse_categorical_accuracy: 1.0000\n",
      "Epoch 21/100\n",
      "551/551 [==============================] - 191s 348ms/step - loss: 0.0410 - sparse_categorical_accuracy: 0.9971 - val_loss: 0.0029 - val_sparse_categorical_accuracy: 1.0000\n",
      "\n",
      "Model Fitted\n",
      "\n"
     ]
    }
   ],
   "source": [
    "moStressNeuralNetwork.execute()"
   ]
  },
  {
   "cell_type": "code",
   "execution_count": null,
   "metadata": {},
   "outputs": [],
   "source": []
  }
 ],
 "metadata": {
  "interpreter": {
   "hash": "610b691e4ff86916ac3354ab6397dee50fb902b9003dc11376ed8ef63be8d58e"
  },
  "kernelspec": {
   "display_name": "Python 3.9.7 64-bit ('mostress-dev-env': venv)",
   "name": "python3"
  },
  "language_info": {
   "codemirror_mode": {
    "name": "ipython",
    "version": 3
   },
   "file_extension": ".py",
   "mimetype": "text/x-python",
   "name": "python",
   "nbconvert_exporter": "python",
   "pygments_lexer": "ipython3",
   "version": "3.9.7"
  },
  "orig_nbformat": 4
 },
 "nbformat": 4,
 "nbformat_minor": 2
}
