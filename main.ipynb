{
 "cells": [
  {
   "cell_type": "code",
   "execution_count": 1,
   "metadata": {},
   "outputs": [],
   "source": [
    "import json\n",
    "import pandas as pd\n",
    "import numpy as np\n",
    "from datasets.DatasetFactory import DatasetFactory\n",
    "from moStress.preprocessing.MoStressPreprocessing import MoStressPreprocessing"
   ]
  },
  {
   "cell_type": "code",
   "execution_count": 2,
   "metadata": {},
   "outputs": [],
   "source": [
    "wesadDataPath = \"data/WESAD\"\n",
    "datasetJsonFilePath = \"configFiles/wesadDatasetOptions.json\"\n",
    "moStressJsonFilePath = \"configFiles/moStressConfigs.json\""
   ]
  },
  {
   "cell_type": "code",
   "execution_count": 3,
   "metadata": {},
   "outputs": [],
   "source": [
    "with open(datasetJsonFilePath, 'r') as j:\n",
    "        wesadOptions = json.loads(j.read())\n",
    "\n",
    "with open(moStressJsonFilePath, 'r') as j:\n",
    "        moStressConfigs = json.loads(j.read())"
   ]
  },
  {
   "cell_type": "code",
   "execution_count": 4,
   "metadata": {},
   "outputs": [],
   "source": [
    "wesadChestPhysioData = DatasetFactory().make( \"Wesad Physio Chest Data\", wesadDataPath, wesadOptions[\"Chest Physio Data\"] )"
   ]
  },
  {
   "cell_type": "code",
   "execution_count": null,
   "metadata": {},
   "outputs": [],
   "source": [
    "moStressPreprocessing = MoStressPreprocessing(moStressConfigs, wesadChestPhysioData.data)"
   ]
  },
  {
   "cell_type": "code",
   "execution_count": null,
   "metadata": {},
   "outputs": [],
   "source": [
    "moStressPreprocessing.execute()"
   ]
  },
  {
   "cell_type": "code",
   "execution_count": null,
   "metadata": {},
   "outputs": [],
   "source": [
    "from datasets.Dataset import Dataset\n",
    "\n",
    "Dataset.saveData(\n",
    "    \"data/preprocessedData/trainning/trainningData.pickle\",\n",
    "    {\n",
    "        \"features\": moStressPreprocessing.features,\n",
    "        \"targets\": moStressPreprocessing.targets,\n",
    "        \"weights\": moStressPreprocessing.weights\n",
    "    }\n",
    ")\n",
    "\n",
    "Dataset.saveData(\n",
    "    \"data/preprocessedData/validation/validationData.pickle\",\n",
    "    {\n",
    "        \"features\": moStressPreprocessing.featuresModelValidation,\n",
    "        \"targets\": moStressPreprocessing.targetsModelValidation,\n",
    "    }\n",
    ")"
   ]
  }
 ],
 "metadata": {
  "interpreter": {
   "hash": "267da802ab12f343be2dd400e174d1341475aa33c7e8ccc708e0c8d33d62fbae"
  },
  "kernelspec": {
   "display_name": "Python 3.9.7 64-bit ('mostress-env': venv)",
   "name": "python3"
  },
  "language_info": {
   "codemirror_mode": {
    "name": "ipython",
    "version": 3
   },
   "file_extension": ".py",
   "mimetype": "text/x-python",
   "name": "python",
   "nbconvert_exporter": "python",
   "pygments_lexer": "ipython3",
   "version": "3.9.7"
  },
  "orig_nbformat": 4
 },
 "nbformat": 4,
 "nbformat_minor": 2
}
